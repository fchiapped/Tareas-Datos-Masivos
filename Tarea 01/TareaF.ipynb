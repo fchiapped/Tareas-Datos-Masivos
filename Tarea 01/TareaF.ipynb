{
 "cells": [
  {
   "cell_type": "markdown",
   "id": "0f43384b",
   "metadata": {},
   "source": [
    "<h2><center>IIC2440 – Procesamiento de Datos Masivos</center></h2>\n",
    "<h3><center>Tarea 1: Análisis sesiones parlamentarias</center></h3>"
   ]
  },
  {
   "cell_type": "code",
   "execution_count": 1,
   "id": "285bc3a4",
   "metadata": {},
   "outputs": [],
   "source": [
    "import pandas as pd\n",
    "import numpy as np\n",
    "import matplotlib.pyplot as plt"
   ]
  },
  {
   "cell_type": "code",
   "execution_count": 7,
   "id": "4cbae0ef",
   "metadata": {},
   "outputs": [],
   "source": [
    "parlamentarios_info = pd.read_csv('participacion/parlamentarios_info_general.csv')\n",
    "descripcion_2023_1 = pd.read_csv('participacion/participacion_descripcion_2023_1.csv')\n",
    "descripcion_2023_2 = pd.read_csv('participacion/participacion_descripcion_2023_2.csv')\n",
    "descripcion_2024 = pd.read_csv('participacion/participacion_descripcion_2024.csv')\n",
    "\n",
    "combined_df = pd.concat([descripcion_2023_1, descripcion_2023_2, descripcion_2024])"
   ]
  },
  {
   "cell_type": "markdown",
   "id": "a9a9f319",
   "metadata": {},
   "source": [
    "### Pre-Procesamiento de Datos"
   ]
  },
  {
   "cell_type": "code",
   "execution_count": null,
   "id": "572019af",
   "metadata": {},
   "outputs": [
    {
     "data": {
      "text/plain": [
       "ID_PARTICIPACION          0\n",
       "PARLAMENTARIO_ID          0\n",
       "FECHA                     0\n",
       "LEGISLATURA               0\n",
       "SESION                    0\n",
       "TIPO_SESION               0\n",
       "TIPO_PARTICIPACION        0\n",
       "CAMARA                    0\n",
       "PARLAMENTARIOS            0\n",
       "TEXTO_PRINCIPAL           0\n",
       "TEXTO_ANTECEDENTE     35768\n",
       "DESCRIPCION_DEBATE        0\n",
       "BOLETIN_ID            47568\n",
       "dtype: int64"
      ]
     },
     "execution_count": 8,
     "metadata": {},
     "output_type": "execute_result"
    }
   ],
   "source": [
    "#Verificar datos nulos\n",
    "combined_df.isna().sum()"
   ]
  },
  {
   "cell_type": "markdown",
   "id": "fadc3ce4",
   "metadata": {},
   "source": []
  },
  {
   "cell_type": "code",
   "execution_count": 9,
   "id": "581dfbe0",
   "metadata": {},
   "outputs": [
    {
     "name": "stdout",
     "output_type": "stream",
     "text": [
      "'DESCRIPCION_DEBATE' distintos: 5932 en 68161 filas\n"
     ]
    }
   ],
   "source": [
    "#Cantidad de temas distintos\n",
    "total_rows = combined_df.shape[0]\n",
    "unique_values = combined_df[\"DESCRIPCION_DEBATE\"].nunique()\n",
    "print(f\"'DESCRIPCION_DEBATE' distintos: {unique_values} en {total_rows} filas\")"
   ]
  }
 ],
 "metadata": {
  "kernelspec": {
   "display_name": "Python 3",
   "language": "python",
   "name": "python3"
  },
  "language_info": {
   "codemirror_mode": {
    "name": "ipython",
    "version": 3
   },
   "file_extension": ".py",
   "mimetype": "text/x-python",
   "name": "python",
   "nbconvert_exporter": "python",
   "pygments_lexer": "ipython3",
   "version": "3.13.3"
  }
 },
 "nbformat": 4,
 "nbformat_minor": 5
}
