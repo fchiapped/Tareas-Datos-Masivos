{
 "cells": [
  {
   "cell_type": "code",
   "execution_count": 2,
   "id": "9df726bf",
   "metadata": {},
   "outputs": [],
   "source": [
    "import pandas as pd\n",
    "import numpy as np\n",
    "import matplotlib.pyplot as plt"
   ]
  },
  {
   "cell_type": "code",
   "execution_count": 6,
   "id": "37637a31",
   "metadata": {},
   "outputs": [],
   "source": [
    "parlamentarios_info = pd.read_csv('participacion/parlamentarios_info_general.csv')\n",
    "descripcion_2023_1 = pd.read_csv('participacion/participacion_descripcion_2023_1.csv')\n",
    "descripcion_2023_2 = pd.read_csv('participacion/participacion_descripcion_2023_2.csv')\n",
    "descripcion_2024 = pd.read_csv('participacion/participacion_descripcion_2024.csv')"
   ]
  },
  {
   "cell_type": "code",
   "execution_count": 8,
   "id": "27f48c3c",
   "metadata": {},
   "outputs": [
    {
     "name": "stdout",
     "output_type": "stream",
     "text": [
      "                                         TEXTO_PRINCIPAL  \\\n",
      "4594   Moción de los Honorables Senadores señor Chahu...   \n",
      "2880   -Proyecto de Acuerdo de los Honorables Senador...   \n",
      "21542  Proyecto de ley, iniciado en moción de las dip...   \n",
      "8696   Proyecto iniciado en moción de los diputados s...   \n",
      "14476  Los diputados señores Jorge Alessandri, Cristi...   \n",
      "18792  Diputada Placencia ,   doña Alejandra ; Diputa...   \n",
      "8999   \\nEl diputado Sáez preguntó si el bolsillo ele...   \n",
      "13966  El diputado Giordano presentó una indicación p...   \n",
      "6578   La indicación N° 87, de los Honorables Senador...   \n",
      "20809  4.- De las diputadas Romero, Medina, Morales y...   \n",
      "\n",
      "                                      DESCRIPCION_DEBATE  \n",
      "4594   Moción de los Honorables Senadores señor Chahu...  \n",
      "2880   -Proyecto de Acuerdo de los Honorables Senador...  \n",
      "21542  Proyecto de ley, iniciado en moción de las dip...  \n",
      "8696   Proyecto iniciado en moción de los diputados s...  \n",
      "14476  ﻿INFORME DE LA COMISIÓN DE SEGURIDAD CIUDADANA...  \n",
      "18792  PETICIONES DE OFICIO. ARTÍCULOS 9° Y 9° A DE L...  \n",
      "8999   ﻿INFORME DE LA COMISION DE HACIENDA RECAÍDO EN...  \n",
      "13966  INFORME DE LA COMISIÓN DE DEPORTES Y RECREACIÓ...  \n",
      "6578   SEGUNDO INFORME DE LA COMISIÓN DE SEGURIDAD PÚ...  \n",
      "20809  ﻿INFORME DE LA COMISIÓN DE MUJERES Y EQUIDAD D...  \n",
      "                                         TEXTO_PRINCIPAL  \\\n",
      "4836   La señora ÓRDENES.- \\nMuchas gracias, Presiden...   \n",
      "9241   El señor CIFUENTES (Presidente).- \\n \\nTiene l...   \n",
      "21317  Proyecto de ley, iniciado en moción de las dip...   \n",
      "21217  Diputado Trisotti, don Renzo . Factibilidad de...   \n",
      "15577  El señor MIROSEVIC (Presidente).-  \\n Tiene la...   \n",
      "17987  El señor CIFUENTES (Presidente).- \\n \\n La ind...   \n",
      "2187   De los Honorables Senadores señora Ebensperger...   \n",
      "7864   2) De los diputados (as) Astudillo, Beltrán, B...   \n",
      "4069   -Proyecto de Acuerdo de los Honorables Senador...   \n",
      "9276   El señor CIFUENTES (Presidente).- \\n \\n Para h...   \n",
      "\n",
      "                                      DESCRIPCION_DEBATE  \n",
      "4836   ORDEN DEL DÍA PRESUPUESTOS DE SECTOR PÚBLICO P...  \n",
      "9241   AUTORIZACIÓN DE BIRREGIONALIDAD DE UNIVERSIDAD...  \n",
      "21317  Proyecto de ley, iniciado en moción de las dip...  \n",
      "21217  PETICIONES DE OFICIO. ARTÍCULOS 9° Y 9° A DE L...  \n",
      "15577  ESTABLECIMIENTO DE ETAPAS PARA REALIZACIÓN DE ...  \n",
      "17987  PROYECTO DE LEY DE PRESUPUESTOS DEL SECTOR PÚB...  \n",
      "2187   De los Honorables Senadores señora Ebensperger...  \n",
      "7864   ﻿INFORME DE LA COMISIÓN DE VIVIENDA, DESARROLL...  \n",
      "4069   -Proyecto de Acuerdo de los Honorables Senador...  \n",
      "9276   IMPLEMENTACIÓN DE MEDIDAS PARA POTENCIAR LA EX...  \n",
      "                                         TEXTO_PRINCIPAL  \\\n",
      "7376   -DiputadoBecker, don Miguel Ángel . Los montos...   \n",
      "16358  La señorita  CARIOLA, doña Karol  (Presidenta)...   \n",
      "21006  El señor UNDURRAGA (don Alberto).- \\n Señorita...   \n",
      "2668   El señor HUENCHUMILLA.- \\nSeñor  Presidente , ...   \n",
      "20773  -\\tDiputado Trisotti, don Renzo . Existencia d...   \n",
      "12374  Diputado Moreno, don Benjamín . Fecha ha de in...   \n",
      "18406  El señor RIVAS (Vicepresidente).- \\n \\n Corres...   \n",
      "21671  -DiputadaWeisse ,   doña Flor . Falta de cupos...   \n",
      "19841  -Proyecto iniciado en moción de los diputados ...   \n",
      "19883  2.\\tOficio \\n-\\tOficio de la Comisión de Educa...   \n",
      "\n",
      "                                      DESCRIPCION_DEBATE  \n",
      "7376                       OTROS DOCUMENTOS DE LA CUENTA  \n",
      "16358  EXTENSIÓN DEL SUBSIDIO PROTEGE Y PRONUNCIAMIEN...  \n",
      "21006  FELICITACIONES A MESA DEL FOLKLORE COMUNAL DE ...  \n",
      "2668   MEDIDAS FRENTE A CRISIS DE EMPRESA HUACHIPATO ...  \n",
      "20773  PETICIONES DE OFICIO. ARTÍCULOS 9° Y 9° A DE L...  \n",
      "12374                      OTROS DOCUMENTOS DE LA CUENTA  \n",
      "18406  ENTREGA DE TERRENOS A CUERPOS DE BOMBEROS PARA...  \n",
      "21671                      OTROS DOCUMENTOS DE LA CUENTA  \n",
      "19841  -Proyecto iniciado en moción de los diputados ...  \n",
      "19883                      OTROS DOCUMENTOS DE LA CUENTA  \n"
     ]
    }
   ],
   "source": [
    "descripciones = [descripcion_2023_1, descripcion_2023_2, descripcion_2024]\n",
    "\n",
    "for df in descripciones:\n",
    "    print(df.sample(10)[[\"TEXTO_PRINCIPAL\", \"DESCRIPCION_DEBATE\"]])"
   ]
  }
 ],
 "metadata": {
  "kernelspec": {
   "display_name": "Python 3",
   "language": "python",
   "name": "python3"
  },
  "language_info": {
   "codemirror_mode": {
    "name": "ipython",
    "version": 3
   },
   "file_extension": ".py",
   "mimetype": "text/x-python",
   "name": "python",
   "nbconvert_exporter": "python",
   "pygments_lexer": "ipython3",
   "version": "3.11.9"
  }
 },
 "nbformat": 4,
 "nbformat_minor": 5
}
