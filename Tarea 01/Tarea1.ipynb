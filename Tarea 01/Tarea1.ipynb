{
 "cells": [
  {
   "cell_type": "code",
   "execution_count": 25,
   "id": "9df726bf",
   "metadata": {},
   "outputs": [],
   "source": [
    "import pandas as pd\n",
    "import numpy as np\n",
    "import matplotlib.pyplot as plt"
   ]
  },
  {
   "cell_type": "code",
   "execution_count": 26,
   "id": "37637a31",
   "metadata": {},
   "outputs": [],
   "source": [
    "parlamentarios_info = pd.read_csv('participacion/parlamentarios_info_general.csv')\n",
    "descripcion_2023_1 = pd.read_csv('participacion/participacion_descripcion_2023_1.csv')\n",
    "descripcion_2023_2 = pd.read_csv('participacion/participacion_descripcion_2023_2.csv')\n",
    "descripcion_2024 = pd.read_csv('participacion/participacion_descripcion_2024.csv')"
   ]
  },
  {
   "cell_type": "code",
   "execution_count": 27,
   "id": "27f48c3c",
   "metadata": {},
   "outputs": [
    {
     "name": "stdout",
     "output_type": "stream",
     "text": [
      "'DESCRIPCION_DEBATE' distintos: 5932 en 68161 filas\n"
     ]
    }
   ],
   "source": [
    "combined_df = pd.concat([descripcion_2023_1, descripcion_2023_2, descripcion_2024], ignore_index=True)\n",
    "\n",
    "\n",
    "total_rows = combined_df.shape[0]\n",
    "unique_values = combined_df[\"DESCRIPCION_DEBATE\"].nunique()\n",
    "print(f\"'DESCRIPCION_DEBATE' distintos: {unique_values} en {total_rows} filas\")\n"
   ]
  },
  {
   "cell_type": "markdown",
   "id": "369c57af",
   "metadata": {},
   "source": [
    "Hay que separar los 5932, ver si se va a hacer con keywords "
   ]
  },
  {
   "cell_type": "code",
   "execution_count": null,
   "id": "1656e1ca",
   "metadata": {},
   "outputs": [],
   "source": []
  }
 ],
 "metadata": {
  "kernelspec": {
   "display_name": "Python 3",
   "language": "python",
   "name": "python3"
  },
  "language_info": {
   "codemirror_mode": {
    "name": "ipython",
    "version": 3
   },
   "file_extension": ".py",
   "mimetype": "text/x-python",
   "name": "python",
   "nbconvert_exporter": "python",
   "pygments_lexer": "ipython3",
   "version": "3.11.9"
  }
 },
 "nbformat": 4,
 "nbformat_minor": 5
}
