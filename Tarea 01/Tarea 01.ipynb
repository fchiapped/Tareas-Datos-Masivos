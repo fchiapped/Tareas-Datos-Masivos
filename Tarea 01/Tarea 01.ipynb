{
 "cells": [
  {
   "cell_type": "markdown",
   "id": "d465b00c",
   "metadata": {},
   "source": [
    "<h2><center>IIC2440 – Procesamiento de Datos Masivos</center></h2>\n",
    "<h3><center>Tarea 1: Análisis sesiones parlamentarias</center></h3>\n",
    "\n",
    "\n",
    "**Integrantes:**\n",
    "- Franco Chiappe\n",
    "- Tomás Pérez"
   ]
  },
  {
   "cell_type": "markdown",
   "id": "cd384384",
   "metadata": {},
   "source": [
    "### Librerias"
   ]
  },
  {
   "cell_type": "code",
   "execution_count": 21,
   "id": "9df726bf",
   "metadata": {},
   "outputs": [],
   "source": [
    "# Importar librerias \n",
    "import pandas as pd\n",
    "import numpy as np\n",
    "import matplotlib.pyplot as plt\n",
    "import re\n",
    "import unicodedata"
   ]
  },
  {
   "cell_type": "markdown",
   "id": "7fdad26f",
   "metadata": {},
   "source": [
    "## Parte 1 [1 pto] - Procesando los datos"
   ]
  },
  {
   "cell_type": "code",
   "execution_count": 22,
   "id": "ae3949cf",
   "metadata": {},
   "outputs": [],
   "source": [
    "# Cargar los datos\n",
    "parlamentarios_info = pd.read_csv('participacion/parlamentarios_info_general.csv')\n",
    "descripcion_2023_1 = pd.read_csv('participacion/participacion_descripcion_2023_1.csv')\n",
    "descripcion_2023_2 = pd.read_csv('participacion/participacion_descripcion_2023_2.csv')\n",
    "descripcion_2024 = pd.read_csv('participacion/participacion_descripcion_2024.csv')\n",
    "df = pd.concat([descripcion_2023_1, descripcion_2023_2, descripcion_2024], ignore_index=True)"
   ]
  },
  {
   "cell_type": "markdown",
   "id": "3d49894e",
   "metadata": {},
   "source": [
    "### Pre-Procesamiento de Datos"
   ]
  },
  {
   "cell_type": "code",
   "execution_count": 23,
   "id": "c5946be0",
   "metadata": {},
   "outputs": [
    {
     "name": "stdout",
     "output_type": "stream",
     "text": [
      "<class 'pandas.core.frame.DataFrame'>\n",
      "RangeIndex: 68161 entries, 0 to 68160\n",
      "Data columns (total 13 columns):\n",
      " #   Column              Non-Null Count  Dtype  \n",
      "---  ------              --------------  -----  \n",
      " 0   ID_PARTICIPACION    68161 non-null  int64  \n",
      " 1   PARLAMENTARIO_ID    68161 non-null  int64  \n",
      " 2   FECHA               68161 non-null  object \n",
      " 3   LEGISLATURA         68161 non-null  int64  \n",
      " 4   SESION              68161 non-null  int64  \n",
      " 5   TIPO_SESION         68161 non-null  object \n",
      " 6   TIPO_PARTICIPACION  68161 non-null  object \n",
      " 7   CAMARA              68161 non-null  object \n",
      " 8   PARLAMENTARIOS      68161 non-null  object \n",
      " 9   TEXTO_PRINCIPAL     68161 non-null  object \n",
      " 10  TEXTO_ANTECEDENTE   32393 non-null  object \n",
      " 11  DESCRIPCION_DEBATE  68161 non-null  object \n",
      " 12  BOLETIN_ID          20593 non-null  float64\n",
      "dtypes: float64(1), int64(4), object(8)\n",
      "memory usage: 6.8+ MB\n"
     ]
    }
   ],
   "source": [
    "df.info()"
   ]
  },
  {
   "cell_type": "markdown",
   "id": "79907165",
   "metadata": {},
   "source": [
    "Nos damos cuenta que en las columnas:\n",
    "\n",
    "- `TEXTO_ANTECEDENTE` tiene 35768  datos nulos\n",
    "- `BOLETIN_ID` tiene 47568 datos nulos\n",
    "\n",
    "Decidimos eliminar la columna `TEXTO_ANTECEDENTE`, porque presentaba un alto porcentaje de datos nulos y no aportaba informacion relevante. Por otro parte, no eliminamos la columna `BOLETIN_ID`, esta columna podria resultar util para analisis futuros."
   ]
  },
  {
   "cell_type": "code",
   "execution_count": 24,
   "id": "d245420f",
   "metadata": {},
   "outputs": [],
   "source": [
    "df = df.drop(columns=[\"TEXTO_ANTECEDENTE\"])"
   ]
  },
  {
   "cell_type": "markdown",
   "id": "de75c7a2",
   "metadata": {},
   "source": [
    "### Limpieza de texto"
   ]
  },
  {
   "cell_type": "code",
   "execution_count": 25,
   "id": "62b1afc7",
   "metadata": {},
   "outputs": [],
   "source": [
    "def limpiar_texto(texto):\n",
    "        \n",
    "    texto = texto.lower()\n",
    "    texto = texto.strip()\n",
    "    \n",
    "    texto = re.sub(r'[^\\w\\s]', '', texto)\n",
    "    texto = re.sub(r'\\s+', ' ', texto)\n",
    "\n",
    "    texto = unicodedata.normalize('NFKD', texto).encode('ASCII', 'ignore').decode('utf-8')\n",
    "\n",
    "    return texto"
   ]
  },
  {
   "cell_type": "markdown",
   "id": "b36fe058",
   "metadata": {},
   "source": [
    "Se usa la funcion ***limpiar_texto*** el objetivo es normalizar los textos para facilitar la extraccion de keywords. Esta funcion convierte todo el contenido a minuscula, elimina tildes, signos de puntuación y espacios innecesarios, dejando un text limpio. Esto permite detectar con mayor precision los temas."
   ]
  },
  {
   "cell_type": "code",
   "execution_count": 26,
   "id": "9c31015a",
   "metadata": {},
   "outputs": [
    {
     "data": {
      "text/plain": [
       "0    la senora allende ngracias presidente npor su ...\n",
       "1    la senora allende ngracias presidente nen prim...\n",
       "2    proyecto de acuerdo de los honorables senadore...\n",
       "3    de la senora allende n a la municipalidad de v...\n",
       "4    proyecto de acuerdo de los honorables senadore...\n",
       "Name: TEXTO_COMBINADO, dtype: object"
      ]
     },
     "execution_count": 26,
     "metadata": {},
     "output_type": "execute_result"
    }
   ],
   "source": [
    "# Aplicar la funcion de limpieza a las columnas\n",
    "df['DESCRIPCION_DEBATE'] = df['DESCRIPCION_DEBATE'].apply(limpiar_texto)\n",
    "df['TEXTO_PRINCIPAL'] = df['TEXTO_PRINCIPAL'].apply(limpiar_texto)\n",
    "\n",
    "# Juntamos las columnas\n",
    "df[\"TEXTO_COMBINADO\"] = df[\"TEXTO_PRINCIPAL\"] + \" \" + df[\"DESCRIPCION_DEBATE\"]\n",
    "df[\"TEXTO_COMBINADO\"].head()"
   ]
  },
  {
   "cell_type": "markdown",
   "id": "1e000072",
   "metadata": {},
   "source": [
    "### Temas y palabras claves"
   ]
  },
  {
   "cell_type": "code",
   "execution_count": 27,
   "id": "2ddb2fbe",
   "metadata": {},
   "outputs": [],
   "source": [
    "temas = {\n",
    "    \"salud\": [\"salud\", \"hospital\", \"hospitales\" \"medico\", \"vacuna\", \"enfermedad\", \"medicina\", \"medicamento\"],\n",
    "    \"educacion\": [\"educacion\", \"colegio\", \"escuela\", \"universidad\", \"profesor\", \"alumno\", \"estudiante\", \"educador\", \"colegios\"],\n",
    "    \"delincuencia\": [\"delincuencia\", \"carabinero\", \"robo\", \"narcotrafico\", \"seguridad\", \"delito\", \"delincuente\", \"delincuentes\"],\n",
    "    \"medio ambiente\": [\"medioambiente\", \"naturaleza\", \"contaminacion\", \"reciclaje\", \"agua\", \"bosque\", \"bosques\", \"flora\", \"fauna\", \"ecosistema\", \"ecosistemas\"],\n",
    "    \"economia\": [\"economia\", \"dinero\", \"impuesto\", \"trabajo\", \"impuestos\", \"empresa\", \"empresas\", \"negocio\", \"negocios\", \"inversion\", \"inversiones\", \"financiero\", \"financieros\"],\n",
    "    \"constitucion\": [\"constitucion\", \"constitucional\"],\n",
    "    \"vivienda\": [\"vivienda\", \"casa\", \"alquiler\", \"arrendar\"],\n",
    "    \"transporte\": [\"transporte\", \"metro\", \"camino\", \"micro\"],\n",
    "    \"derechos humanos\": [\"derechos humanos\", \"derechos\", \"humanos\", \"discriminacion\", \"discriminacion\", \"discriminados\", \"discriminados\", \"discriminacion\", \"discriminaciones\", \"humanitaria\"],\n",
    "    \"legislacion\": [\"legislacion\", \"ley\", \"leyes\", \"legislativo\", \"legislativa\"],\n",
    "    \"justicia\": [\"justicia\", \"justicia\", \"jueces\", \"juez\", \"tribunal\", \"tribunales\"],\n",
    "}"
   ]
  },
  {
   "cell_type": "code",
   "execution_count": 28,
   "id": "29b71eed",
   "metadata": {},
   "outputs": [],
   "source": [
    "def asignar_keywords(texto):\n",
    "    palabras = texto.split()\n",
    "    etiquetas = set()\n",
    "    for tema, claves in temas.items():\n",
    "        for palabra in claves:\n",
    "            if (palabra in palabras):\n",
    "                etiquetas.add(tema)\n",
    "       \n",
    "    return list(etiquetas)"
   ]
  },
  {
   "cell_type": "code",
   "execution_count": 29,
   "id": "0b922b7f",
   "metadata": {},
   "outputs": [],
   "source": [
    "# Se agrupan por descripción debate, para poder aplicar la función de asignar_keywords a cada grupo de manera más eficiente\n",
    "grouped_df = df.groupby(\"DESCRIPCION_DEBATE\").first().reset_index()\n",
    "grouped_df[\"KEYWORDS\"] = grouped_df[\"TEXTO_COMBINADO\"].apply(asignar_keywords)\n",
    "\n",
    "df = df.merge(grouped_df[[\"TEXTO_COMBINADO\", \"KEYWORDS\"]], on=\"TEXTO_COMBINADO\", how=\"left\")"
   ]
  },
  {
   "cell_type": "markdown",
   "id": "d9e8906d",
   "metadata": {},
   "source": [
    "### Conclusion:\n"
   ]
  },
  {
   "cell_type": "markdown",
   "id": "20e744ab",
   "metadata": {},
   "source": [
    "\n",
    "Se realizo el preprocesamiento de las intervenciones parlamentarias con el objetivo de identificar las tematicas. Para esto, se aplico una funcion de limpieza que normalizo el texto (conversion a minusculas, eliminacion de tildes, puntuacion y espacios innecesarios). Luego, se unieron las columnas `TEXTO_ANTECEDENTE` y `DESCRIPCION_DEBATE` para generar un texto combinado. Finalmente, se aplico una funcion que detecta las palabras clave y asigna a cada intervencion una o mas temas, permitiendo categorizar los discursos parlamentarios segun temas como salud, educación, delincuencia, entre otros. Para optimizar la asignación, se agruparon las filas por la columna `DESCRIPCION_DEBATE`, ya que muchas compartian o eran de un mismo debate, para así acortar el tiempo de ejecución de asignación"
   ]
  },
  {
   "cell_type": "markdown",
   "id": "ccd98bc3",
   "metadata": {},
   "source": [
    "## Parte 2 - [1 pts] - Modelamiento"
   ]
  },
  {
   "cell_type": "markdown",
   "id": "4598b200",
   "metadata": {},
   "source": [
    "### Desarrollo en **P2_T1_Datos_Masivos.pdf**\n",
    "\n",
    "A Continuación se encuentra el codigo con el que se trabajo para generar las tablas"
   ]
  },
  {
   "cell_type": "markdown",
   "id": "154a81eb",
   "metadata": {},
   "source": [
    "## Crear DataFrames, para trabajar estos posteriormente como tablas"
   ]
  },
  {
   "cell_type": "markdown",
   "id": "b2f1152b",
   "metadata": {},
   "source": [
    "<h3> Creamos el DataFrame Parlamentarios </h3>"
   ]
  },
  {
   "cell_type": "code",
   "execution_count": 30,
   "id": "41b31032",
   "metadata": {},
   "outputs": [],
   "source": [
    "parlamentarios_info[\"PARTIDO_POLITICO\"] = parlamentarios_info[\"PARTIDO_POLITICO\"].fillna(\"Independiente\")\n",
    "parlamentarios = parlamentarios_info.copy()\n",
    "parlamentarios = parlamentarios.drop(columns=[\"REDES_SOCIALES\", \"SITIOS_WEB\", \"PARTIDO_POLITICO\"])"
   ]
  },
  {
   "cell_type": "markdown",
   "id": "9136c54b",
   "metadata": {},
   "source": [
    "<h3> Creamos el DataFrame Partidos_Politico  </h3>"
   ]
  },
  {
   "cell_type": "code",
   "execution_count": 31,
   "id": "51099796",
   "metadata": {},
   "outputs": [],
   "source": [
    "partidos = parlamentarios_info[[\"PARTIDO_POLITICO\"]].drop_duplicates().reset_index(drop=True)\n",
    "partidos[\"PARTIDO_ID\"] = range(1, len(partidos) + 1)\n",
    "partidos.columns = [\"PARTIDO_POLITICO\", \"PARTIDO_ID\"]\n",
    "partido_to_id = partidos.set_index(\"PARTIDO_POLITICO\")[\"PARTIDO_ID\"].to_dict()"
   ]
  },
  {
   "cell_type": "markdown",
   "id": "1a3c5f1c",
   "metadata": {},
   "source": [
    "<h3> Creamos el DataFrame  Debates </h3>\n"
   ]
  },
  {
   "cell_type": "code",
   "execution_count": 32,
   "id": "183377ed",
   "metadata": {},
   "outputs": [],
   "source": [
    "debates = df.copy()\n",
    "debates[\"DEBATE_ID\"] = debates.groupby([\"DESCRIPCION_DEBATE\"]).ngroup() + 1\n",
    "debates[\"BOLETIN_ID\"] = debates[\"BOLETIN_ID\"].fillna(0).astype(int)\n",
    "\n",
    "debates = debates[[\"DEBATE_ID\", \"DESCRIPCION_DEBATE\", \"FECHA\", \"BOLETIN_ID\"]]\n",
    "debates = debates.drop_duplicates(subset=[\"DESCRIPCION_DEBATE\"])\n",
    "\n",
    "debates = debates.sort_values(by=\"DEBATE_ID\").reset_index(drop=True)"
   ]
  },
  {
   "cell_type": "markdown",
   "id": "1ad27d0c",
   "metadata": {},
   "source": [
    "<h3> Creamos el DataFrame Participaciones </h3>\n"
   ]
  },
  {
   "cell_type": "code",
   "execution_count": 33,
   "id": "e62d1dfa",
   "metadata": {},
   "outputs": [],
   "source": [
    "participaciones = df.copy()\n",
    "\n",
    "debate_to_id = debates.set_index(\"DESCRIPCION_DEBATE\")[\"DEBATE_ID\"].to_dict()\n",
    "participaciones[\"DEBATE_ID\"] = participaciones[\"DESCRIPCION_DEBATE\"].map(debate_to_id)\n",
    "\n",
    "participaciones = participaciones[[ \"ID_PARTICIPACION\", \"PARLAMENTARIO_ID\", \"DEBATE_ID\", \"FECHA\", \"LEGISLATURA\", \"SESION\", \"TIPO_SESION\", \"TIPO_PARTICIPACION\", \"CAMARA\"]]\n",
    "\n",
    "participaciones = participaciones.sort_values(by=\"ID_PARTICIPACION\").reset_index(drop=True)"
   ]
  },
  {
   "cell_type": "markdown",
   "id": "f79505dc",
   "metadata": {},
   "source": [
    "<h3> Creamos el DataFrame Keywords </h3>\n"
   ]
  },
  {
   "cell_type": "code",
   "execution_count": 34,
   "id": "fee40586",
   "metadata": {},
   "outputs": [],
   "source": [
    "keywords = pd.DataFrame(list(temas.items()), columns=[\"Tema\", \"Palabras_Clave\"])\n",
    "keywords.rename(columns={\"Tema\": \"KEYWORD\"}, inplace=True)\n",
    "keywords.drop(columns=[\"Palabras_Clave\"], inplace=True)\n",
    "keywords[\"KEYWORD_ID\"] = range(1, len(keywords) + 1)"
   ]
  },
  {
   "cell_type": "markdown",
   "id": "7ff00a43",
   "metadata": {},
   "source": [
    "<h3> Creamos el DataFrame Intervenciones </h3>\n"
   ]
  },
  {
   "cell_type": "code",
   "execution_count": 35,
   "id": "5e3b0f39",
   "metadata": {},
   "outputs": [],
   "source": [
    "intervenciones = df[[\"ID_PARTICIPACION\", \"TEXTO_PRINCIPAL\"]].copy()\n",
    "intervenciones[\"INTERVENCION_ID\"] = range(1, len(intervenciones) + 1)\n",
    "intervenciones = intervenciones[[\"INTERVENCION_ID\", \"ID_PARTICIPACION\", \"TEXTO_PRINCIPAL\"]]\n",
    "intervenciones = intervenciones.sort_values(by=\"INTERVENCION_ID\").reset_index(drop=True)"
   ]
  },
  {
   "cell_type": "markdown",
   "id": "28a46247",
   "metadata": {},
   "source": [
    "<h3> Creamos el DataFrame Intervenciones_Keywords </h3>\n"
   ]
  },
  {
   "cell_type": "code",
   "execution_count": 36,
   "id": "2ff44afa",
   "metadata": {},
   "outputs": [],
   "source": [
    "df_intervenciones_keywords = df[[\"ID_PARTICIPACION\", \"KEYWORDS\"]].explode(\"KEYWORDS\").dropna(subset=[\"KEYWORDS\"])\n",
    "\n",
    "id_participacion_to_intervencion_id = intervenciones.set_index(\"ID_PARTICIPACION\")[\"INTERVENCION_ID\"].to_dict()\n",
    "df_intervenciones_keywords[\"INTERVENCION_ID\"] = df_intervenciones_keywords[\"ID_PARTICIPACION\"].map(id_participacion_to_intervencion_id)\n",
    "\n",
    "keyword_to_id = keywords.set_index(\"KEYWORD\")[\"KEYWORD_ID\"].to_dict()\n",
    "df_intervenciones_keywords[\"KEYWORD_ID\"] = df_intervenciones_keywords[\"KEYWORDS\"].map(keyword_to_id)\n",
    "\n",
    "df_intervenciones_keywords = df_intervenciones_keywords[[\"INTERVENCION_ID\", \"KEYWORD_ID\"]].dropna().drop_duplicates()"
   ]
  },
  {
   "cell_type": "markdown",
   "id": "e29a07fe",
   "metadata": {},
   "source": [
    "<h3> Guardamos los DataFrames </h3>"
   ]
  },
  {
   "cell_type": "code",
   "execution_count": 37,
   "id": "04d3a767",
   "metadata": {},
   "outputs": [],
   "source": [
    "import zipfile\n",
    "\n",
    "with zipfile.ZipFile(\"DataFrames.zip\", \"w\") as zipf:\n",
    "\n",
    "    parlamentarios.to_csv(\"Parlamentarios.csv\", index=False)\n",
    "    zipf.write(\"Parlamentarios.csv\")\n",
    "    \n",
    "    partidos.to_csv(\"Partidos_Politico.csv\", index=False)\n",
    "    zipf.write(\"Partidos_Politico.csv\")\n",
    "    \n",
    "    debates.to_csv(\"Debates.csv\", index=False)\n",
    "    zipf.write(\"Debates.csv\")\n",
    "    \n",
    "    participaciones.to_csv(\"Participaciones.csv\", index=False)\n",
    "    zipf.write(\"Participaciones.csv\")\n",
    "    \n",
    "    keywords.to_csv(\"Keywords.csv\", index=False)\n",
    "    zipf.write(\"Keywords.csv\")\n",
    "    \n",
    "    intervenciones.to_csv(\"Intervenciones.csv\", index=False)\n",
    "    zipf.write(\"Intervenciones.csv\")\n",
    "    \n",
    "    df_intervenciones_keywords.to_csv(\"Intervenciones_Keywords.csv\", index=False)\n",
    "    zipf.write(\"Intervenciones_Keywords.csv\")\n"
   ]
  },
  {
   "cell_type": "code",
   "execution_count": 38,
   "id": "1badf5a3",
   "metadata": {},
   "outputs": [],
   "source": [
    "import os\n",
    "\n",
    "archivos = [\n",
    "    \"Parlamentarios.csv\",\n",
    "    \"Partidos_Politico.csv\",\n",
    "    \"Debates.csv\",\n",
    "    \"Participaciones.csv\",\n",
    "    \"Keywords.csv\",\n",
    "    \"Intervenciones.csv\",\n",
    "    \"Intervenciones_Keywords.csv\"\n",
    "]\n",
    "\n",
    "for archivo in archivos:\n",
    "    if os.path.exists(archivo):\n",
    "        os.remove(archivo)\n"
   ]
  },
  {
   "cell_type": "markdown",
   "id": "28543084",
   "metadata": {},
   "source": [
    "## Parte 4 - [2 pts] - Informe"
   ]
  },
  {
   "cell_type": "markdown",
   "id": "0cc10a98",
   "metadata": {},
   "source": [
    "### Desarrollo en  **P4_T2_Datos_Masivos.pdf**"
   ]
  },
  {
   "cell_type": "markdown",
   "id": "02260d8b",
   "metadata": {},
   "source": [
    "## Parte 5 - [0.5 pts] - Resumen ejecutivo"
   ]
  }
 ],
 "metadata": {
  "kernelspec": {
   "display_name": "Python 3",
   "language": "python",
   "name": "python3"
  },
  "language_info": {
   "codemirror_mode": {
    "name": "ipython",
    "version": 3
   },
   "file_extension": ".py",
   "mimetype": "text/x-python",
   "name": "python",
   "nbconvert_exporter": "python",
   "pygments_lexer": "ipython3",
   "version": "3.11.9"
  }
 },
 "nbformat": 4,
 "nbformat_minor": 5
}
