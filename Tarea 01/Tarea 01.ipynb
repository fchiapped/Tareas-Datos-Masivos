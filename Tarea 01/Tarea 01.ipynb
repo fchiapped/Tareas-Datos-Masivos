{
 "cells": [
  {
   "cell_type": "markdown",
   "id": "d465b00c",
   "metadata": {},
   "source": [
    "<h2><center>IIC2440 – Procesamiento de Datos Masivos</center></h2>\n",
    "<h3><center>Tarea 1: Análisis sesiones parlamentarias</center></h3>\n",
    "\n",
    "\n",
    "**Integrantes:**\n",
    "- Franco Chiappe\n",
    "- Tomás Pérez"
   ]
  },
  {
   "cell_type": "markdown",
   "id": "cd384384",
   "metadata": {},
   "source": [
    "### Librerias"
   ]
  },
  {
   "cell_type": "code",
   "execution_count": 274,
   "id": "9df726bf",
   "metadata": {},
   "outputs": [],
   "source": [
    "# Importar librerias \n",
    "import pandas as pd\n",
    "import numpy as np\n",
    "import matplotlib.pyplot as plt\n",
    "import re\n",
    "import unicodedata"
   ]
  },
  {
   "cell_type": "markdown",
   "id": "7fdad26f",
   "metadata": {},
   "source": [
    "## Parte 1 [1 pto] - Procesando los datos CREO QUE LISTO"
   ]
  },
  {
   "cell_type": "code",
   "execution_count": 275,
   "id": "ae3949cf",
   "metadata": {},
   "outputs": [],
   "source": [
    "# Cargar los datos\n",
    "parlamentarios_info = pd.read_csv('participacion/parlamentarios_info_general.csv')\n",
    "descripcion_2023_1 = pd.read_csv('participacion/participacion_descripcion_2023_1.csv')\n",
    "descripcion_2023_2 = pd.read_csv('participacion/participacion_descripcion_2023_2.csv')\n",
    "descripcion_2024 = pd.read_csv('participacion/participacion_descripcion_2024.csv')\n",
    "df = pd.concat([descripcion_2023_1, descripcion_2023_2, descripcion_2024], ignore_index=True)"
   ]
  },
  {
   "cell_type": "markdown",
   "id": "3d49894e",
   "metadata": {},
   "source": [
    "### Pre-Procesamiento de Datos"
   ]
  },
  {
   "cell_type": "code",
   "execution_count": 276,
   "id": "c5946be0",
   "metadata": {},
   "outputs": [
    {
     "name": "stdout",
     "output_type": "stream",
     "text": [
      "<class 'pandas.core.frame.DataFrame'>\n",
      "RangeIndex: 68161 entries, 0 to 68160\n",
      "Data columns (total 13 columns):\n",
      " #   Column              Non-Null Count  Dtype  \n",
      "---  ------              --------------  -----  \n",
      " 0   ID_PARTICIPACION    68161 non-null  int64  \n",
      " 1   PARLAMENTARIO_ID    68161 non-null  int64  \n",
      " 2   FECHA               68161 non-null  object \n",
      " 3   LEGISLATURA         68161 non-null  int64  \n",
      " 4   SESION              68161 non-null  int64  \n",
      " 5   TIPO_SESION         68161 non-null  object \n",
      " 6   TIPO_PARTICIPACION  68161 non-null  object \n",
      " 7   CAMARA              68161 non-null  object \n",
      " 8   PARLAMENTARIOS      68161 non-null  object \n",
      " 9   TEXTO_PRINCIPAL     68161 non-null  object \n",
      " 10  TEXTO_ANTECEDENTE   32393 non-null  object \n",
      " 11  DESCRIPCION_DEBATE  68161 non-null  object \n",
      " 12  BOLETIN_ID          20593 non-null  float64\n",
      "dtypes: float64(1), int64(4), object(8)\n",
      "memory usage: 6.8+ MB\n"
     ]
    }
   ],
   "source": [
    "df.info()"
   ]
  },
  {
   "cell_type": "code",
   "execution_count": 277,
   "id": "11b07823",
   "metadata": {},
   "outputs": [
    {
     "data": {
      "text/plain": [
       "ID_PARTICIPACION          0\n",
       "PARLAMENTARIO_ID          0\n",
       "FECHA                     0\n",
       "LEGISLATURA               0\n",
       "SESION                    0\n",
       "                      ...  \n",
       "PARLAMENTARIOS            0\n",
       "TEXTO_PRINCIPAL           0\n",
       "TEXTO_ANTECEDENTE     35768\n",
       "DESCRIPCION_DEBATE        0\n",
       "BOLETIN_ID            47568\n",
       "Length: 13, dtype: int64"
      ]
     },
     "execution_count": 277,
     "metadata": {},
     "output_type": "execute_result"
    }
   ],
   "source": [
    "# Revisión Datos Nulos:\n",
    "df.isna().sum()"
   ]
  },
  {
   "cell_type": "markdown",
   "id": "79907165",
   "metadata": {},
   "source": [
    "Nos damos cuenta que en las columnas:\n",
    "\n",
    "- `TEXTO_ANTECEDENTE` tiene 35768  datos nulos\n",
    "- `BOLETIN_ID` tiene 47568 datos nulos\n",
    "\n",
    "Decidimos eliminar la columna `TEXTO_ANTECEDENTE`, porque presentaba un alto porcentaje de datos nulos y no aportaba informacion relevante. Por otro parte, no eliminamos la columna `BOLETIN_ID`, esta columna podria resultar util para analisis futuros."
   ]
  },
  {
   "cell_type": "code",
   "execution_count": 278,
   "id": "d245420f",
   "metadata": {},
   "outputs": [],
   "source": [
    "df = df.drop(columns=[\"TEXTO_ANTECEDENTE\"])"
   ]
  },
  {
   "cell_type": "markdown",
   "id": "de75c7a2",
   "metadata": {},
   "source": [
    "### Limpieza de texto"
   ]
  },
  {
   "cell_type": "code",
   "execution_count": 279,
   "id": "62b1afc7",
   "metadata": {},
   "outputs": [],
   "source": [
    "def limpiar_texto(texto):\n",
    "        \n",
    "    texto = texto.lower()\n",
    "    texto = texto.strip()\n",
    "    \n",
    "    texto = re.sub(r'[^\\w\\s]', '', texto)\n",
    "    texto = re.sub(r'\\s+', ' ', texto)\n",
    "\n",
    "    texto = unicodedata.normalize('NFKD', texto).encode('ASCII', 'ignore').decode('utf-8')\n",
    "\n",
    "    return texto"
   ]
  },
  {
   "cell_type": "markdown",
   "id": "b36fe058",
   "metadata": {},
   "source": [
    "Se usa la funcion ***limpiar_texto*** el objetivo es normalizar los textos para facilitar la extraccion de keywords. Esta funcion convierte todo el contenido a minuscula, elimina tildes, signos de puntuación y espacios innecesarios, dejando un text limpio. Esto permite detectar con mayor precision los temas."
   ]
  },
  {
   "cell_type": "code",
   "execution_count": 280,
   "id": "9c31015a",
   "metadata": {},
   "outputs": [
    {
     "data": {
      "text/plain": [
       "0    la senora allende ngracias presidente npor su ...\n",
       "1    la senora allende ngracias presidente nen prim...\n",
       "2    proyecto de acuerdo de los honorables senadore...\n",
       "3    de la senora allende n a la municipalidad de v...\n",
       "4    proyecto de acuerdo de los honorables senadore...\n",
       "Name: TEXTO_COMBINADO, dtype: object"
      ]
     },
     "execution_count": 280,
     "metadata": {},
     "output_type": "execute_result"
    }
   ],
   "source": [
    "# Aplicar la funcion de limpieza a las columnas\n",
    "df['DESCRIPCION_DEBATE'] = df['DESCRIPCION_DEBATE'].apply(limpiar_texto)\n",
    "df['TEXTO_PRINCIPAL'] = df['TEXTO_PRINCIPAL'].apply(limpiar_texto)\n",
    "\n",
    "# Juntamos las columnas\n",
    "df[\"TEXTO_COMBINADO\"] = df[\"TEXTO_PRINCIPAL\"] + \" \" + df[\"DESCRIPCION_DEBATE\"]\n",
    "df[\"TEXTO_COMBINADO\"].head()"
   ]
  },
  {
   "cell_type": "markdown",
   "id": "1e000072",
   "metadata": {},
   "source": [
    "### Temas y palabras claves"
   ]
  },
  {
   "cell_type": "code",
   "execution_count": 281,
   "id": "f915c56b",
   "metadata": {},
   "outputs": [],
   "source": [
    "temas = {\n",
    "    \"salud\": [\"salud\", \"hospital\", \"hospitales\" \"medico\", \"vacuna\", \"enfermedad\", \"medicina\", \"medicamento\"],\n",
    "    \"educacion\": [\"educacion\", \"colegio\", \"escuela\", \"universidad\", \"profesor\", \"alumno\", \"estudiante\", \"educador\", \"colegios\"],\n",
    "    \"delincuencia\": [\"delincuencia\", \"carabinero\", \"robo\", \"narcotrafico\", \"seguridad\", \"delito\", \"delincuente\", \"delincuentes\"],\n",
    "    \"medio ambiente\": [\"medioambiente\", \"naturaleza\", \"contaminacion\", \"reciclaje\", \"agua\", \"bosque\", \"bosques\", \"flora\", \"fauna\", \"ecosistema\", \"ecosistemas\"],\n",
    "    \"economia\": [\"economia\", \"dinero\", \"impuesto\", \"trabajo\", \"impuestos\", \"empresa\", \"empresas\", \"negocio\", \"negocios\", \"inversion\", \"inversiones\", \"financiero\", \"financieros\"],\n",
    "    \"constitucion\": [\"constitucion\", \"constitucional\"],\n",
    "    \"vivienda\": [\"vivienda\", \"casa\", \"alquiler\", \"arrendar\"],\n",
    "    \"transporte\": [\"transporte\", \"metro\", \"camino\", \"micro\"],\n",
    "    \"derechos humanos\": [\"derechos humanos\", \"derechos\", \"humanos\", \"discriminacion\", \"discriminacion\", \"discriminados\", \"discriminados\", \"discriminacion\", \"discriminaciones\", \"humanitaria\"],\n",
    "    \"legislacion\": [\"legislacion\", \"ley\", \"leyes\", \"legislativo\", \"legislativa\"],\n",
    "    \"justicia\": [\"justicia\", \"justicia\", \"jueces\", \"juez\", \"tribunal\", \"tribunales\"],\n",
    "}"
   ]
  },
  {
   "cell_type": "markdown",
   "id": "0bb2908c",
   "metadata": {},
   "source": [
    "<h1 style=\"color:red;\"><center> Que otras palabras podemos incluir? </center></h1>"
   ]
  },
  {
   "cell_type": "code",
   "execution_count": 282,
   "id": "29b71eed",
   "metadata": {},
   "outputs": [],
   "source": [
    "def asignar_keywords(texto):\n",
    "    palabras = texto.split()\n",
    "    etiquetas = set()\n",
    "    for tema, claves in temas.items():\n",
    "        for palabra in claves:\n",
    "            if (palabra in palabras):\n",
    "                etiquetas.add(tema)\n",
    "       \n",
    "    return list(etiquetas)"
   ]
  },
  {
   "cell_type": "code",
   "execution_count": 283,
   "id": "0b922b7f",
   "metadata": {},
   "outputs": [
    {
     "data": {
      "text/plain": [
       "KEYWORDS\n",
       "[]                                                                          4836\n",
       "[legislacion]                                                               4060\n",
       "[economia]                                                                   814\n",
       "[salud]                                                                      672\n",
       "[economia, legislacion]                                                      650\n",
       "                                                                            ... \n",
       "[salud, justicia, legislacion, delincuencia]                                   1\n",
       "[justicia, economia, derechos humanos, salud, medio ambiente]                  1\n",
       "[educacion, justicia, economia, legislacion, transporte]                       1\n",
       "[vivienda, economia, derechos humanos, legislacion, salud, constitucion]       1\n",
       "[medio ambiente, derechos humanos, justicia, transporte]                       1\n",
       "Name: count, Length: 524, dtype: int64"
      ]
     },
     "execution_count": 283,
     "metadata": {},
     "output_type": "execute_result"
    }
   ],
   "source": [
    "# Se agrupan por descripción debate, para poder aplicar la función de asignar_keywords a cada grupo de manera más eficiente\n",
    "grouped_df = df.groupby(\"DESCRIPCION_DEBATE\").first().reset_index()\n",
    "grouped_df[\"KEYWORDS\"] = grouped_df[\"TEXTO_COMBINADO\"].apply(asignar_keywords)\n",
    "\n",
    "df = df.merge(grouped_df[[\"TEXTO_COMBINADO\", \"KEYWORDS\"]], on=\"TEXTO_COMBINADO\", how=\"left\")\n",
    "df[\"KEYWORDS\"].value_counts()"
   ]
  },
  {
   "cell_type": "markdown",
   "id": "20e744ab",
   "metadata": {},
   "source": [
    "### Conclusion:\n",
    "Se realizo el preprocesamiento de las intervenciones parlamentarias con el objetivo de identificar las tematicas. Para esto, se aplico una funcion de limpieza que normalizo el texto (conversion a minusculas, eliminacion de tildes, puntuacion y espacios innecesarios). Luego, se unieron las columnas `TEXTO_ANTECEDENTE` y `DESCRIPCION_DEBATE` para generar un texto combinado. Finalmente, se aplico una funcion que detecta las palabras clave y asigna a cada intervencion una o mas temas, permitiendo categorizar los discursos parlamentarios segun temas como salud, educación, delincuencia, entre otros. Para optimizar la asignación, se agruparon las filas por la columna `DESCRIPCION_DEBATE`, ya que muchas compartian o eran de un mismo debate, para así acortar el tiempo de ejecución de asignación"
   ]
  },
  {
   "cell_type": "code",
   "execution_count": 284,
   "id": "5b78bb8a",
   "metadata": {},
   "outputs": [
    {
     "data": {
      "text/plain": [
       "KEYWORDS\n",
       "legislacion         9216\n",
       "economia            3444\n",
       "delincuencia        2421\n",
       "constitucion        2354\n",
       "salud               1880\n",
       "                    ... \n",
       "derechos humanos    1724\n",
       "justicia            1172\n",
       "transporte          1006\n",
       "medio ambiente      1002\n",
       "vivienda             689\n",
       "Name: count, Length: 11, dtype: int64"
      ]
     },
     "execution_count": 284,
     "metadata": {},
     "output_type": "execute_result"
    }
   ],
   "source": [
    "df[\"KEYWORDS\"].explode().value_counts()"
   ]
  },
  {
   "cell_type": "markdown",
   "id": "ccd98bc3",
   "metadata": {},
   "source": [
    "## Parte 2 - [1 pts] - Modelamiento"
   ]
  },
  {
   "cell_type": "markdown",
   "id": "2032f4de",
   "metadata": {},
   "source": [
    "## Parte 3 - [1.5 pts] - BigQuery"
   ]
  },
  {
   "cell_type": "markdown",
   "id": "28543084",
   "metadata": {},
   "source": [
    "## Parte 4 - [2 pts] - Informe>"
   ]
  },
  {
   "cell_type": "markdown",
   "id": "02260d8b",
   "metadata": {},
   "source": [
    "## Parte 5 - [0.5 pts] - Resumen ejecutivo"
   ]
  },
  {
   "cell_type": "markdown",
   "id": "369c57af",
   "metadata": {},
   "source": [
    "Hay que separar los 5932, ver si se va a hacer con keywords "
   ]
  },
  {
   "cell_type": "markdown",
   "id": "13f3a200",
   "metadata": {},
   "source": [
    "Esto no sirve directamente, pero es para saber que hay varios que tienen detalles así y que al revisarlo por texto sale similiar"
   ]
  }
 ],
 "metadata": {
  "kernelspec": {
   "display_name": "Python 3",
   "language": "python",
   "name": "python3"
  },
  "language_info": {
   "codemirror_mode": {
    "name": "ipython",
    "version": 3
   },
   "file_extension": ".py",
   "mimetype": "text/x-python",
   "name": "python",
   "nbconvert_exporter": "python",
   "pygments_lexer": "ipython3",
   "version": "3.13.3"
  }
 },
 "nbformat": 4,
 "nbformat_minor": 5
}
