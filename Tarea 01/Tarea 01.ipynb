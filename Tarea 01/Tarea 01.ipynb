{
 "cells": [
  {
   "cell_type": "markdown",
   "id": "d465b00c",
   "metadata": {},
   "source": [
    "<h2><center>IIC2440 – Procesamiento de Datos Masivos</center></h2>\n",
    "<h3><center>Tarea 1: Análisis sesiones parlamentarias</center></h3>\n",
    "\n",
    "\n",
    "**Integrantes:**\n",
    "- Franco Chiappe\n",
    "- Tomás Pérez"
   ]
  },
  {
   "cell_type": "markdown",
   "id": "cd384384",
   "metadata": {},
   "source": [
    "### Librerias"
   ]
  },
  {
   "cell_type": "code",
<<<<<<< HEAD
   "execution_count": 384,
=======
   "execution_count": 357,
>>>>>>> 5bfab5a (WIP: cambios locales antes del pull)
   "id": "9df726bf",
   "metadata": {},
   "outputs": [],
   "source": [
    "# Importar librerias \n",
    "import pandas as pd\n",
    "import numpy as np\n",
    "import matplotlib.pyplot as plt\n",
    "import re\n",
    "import unicodedata"
   ]
  },
  {
   "cell_type": "markdown",
   "id": "7fdad26f",
   "metadata": {},
   "source": [
    "## Parte 1 [1 pto] - Procesando los datos"
   ]
  },
  {
   "cell_type": "code",
<<<<<<< HEAD
   "execution_count": 385,
=======
   "execution_count": 358,
>>>>>>> 5bfab5a (WIP: cambios locales antes del pull)
   "id": "ae3949cf",
   "metadata": {},
   "outputs": [],
   "source": [
    "# Cargar los datos\n",
    "parlamentarios_info = pd.read_csv('participacion/parlamentarios_info_general.csv')\n",
    "descripcion_2023_1 = pd.read_csv('participacion/participacion_descripcion_2023_1.csv')\n",
    "descripcion_2023_2 = pd.read_csv('participacion/participacion_descripcion_2023_2.csv')\n",
    "descripcion_2024 = pd.read_csv('participacion/participacion_descripcion_2024.csv')\n",
    "df = pd.concat([descripcion_2023_1, descripcion_2023_2, descripcion_2024], ignore_index=True)"
   ]
  },
  {
   "cell_type": "markdown",
   "id": "3d49894e",
   "metadata": {},
   "source": [
    "### Pre-Procesamiento de Datos"
   ]
  },
  {
   "cell_type": "code",
<<<<<<< HEAD
   "execution_count": 386,
=======
   "execution_count": 359,
>>>>>>> 5bfab5a (WIP: cambios locales antes del pull)
   "id": "c5946be0",
   "metadata": {},
   "outputs": [
    {
     "name": "stdout",
     "output_type": "stream",
     "text": [
      "<class 'pandas.core.frame.DataFrame'>\n",
      "RangeIndex: 68161 entries, 0 to 68160\n",
      "Data columns (total 13 columns):\n",
      " #   Column              Non-Null Count  Dtype  \n",
      "---  ------              --------------  -----  \n",
      " 0   ID_PARTICIPACION    68161 non-null  int64  \n",
      " 1   PARLAMENTARIO_ID    68161 non-null  int64  \n",
      " 2   FECHA               68161 non-null  object \n",
      " 3   LEGISLATURA         68161 non-null  int64  \n",
      " 4   SESION              68161 non-null  int64  \n",
      " 5   TIPO_SESION         68161 non-null  object \n",
      " 6   TIPO_PARTICIPACION  68161 non-null  object \n",
      " 7   CAMARA              68161 non-null  object \n",
      " 8   PARLAMENTARIOS      68161 non-null  object \n",
      " 9   TEXTO_PRINCIPAL     68161 non-null  object \n",
      " 10  TEXTO_ANTECEDENTE   32393 non-null  object \n",
      " 11  DESCRIPCION_DEBATE  68161 non-null  object \n",
      " 12  BOLETIN_ID          20593 non-null  float64\n",
      "dtypes: float64(1), int64(4), object(8)\n",
      "memory usage: 6.8+ MB\n"
     ]
    }
   ],
   "source": [
    "df.info()"
   ]
  },
  {
   "cell_type": "markdown",
   "id": "79907165",
   "metadata": {},
   "source": [
    "Nos damos cuenta que en las columnas:\n",
    "\n",
    "- `TEXTO_ANTECEDENTE` tiene 35768  datos nulos\n",
    "- `BOLETIN_ID` tiene 47568 datos nulos\n",
    "\n",
    "Decidimos eliminar la columna `TEXTO_ANTECEDENTE`, porque presentaba un alto porcentaje de datos nulos y no aportaba informacion relevante. Por otro parte, no eliminamos la columna `BOLETIN_ID`, esta columna podria resultar util para analisis futuros."
   ]
  },
  {
   "cell_type": "code",
<<<<<<< HEAD
   "execution_count": 387,
=======
   "execution_count": 360,
>>>>>>> 5bfab5a (WIP: cambios locales antes del pull)
   "id": "d245420f",
   "metadata": {},
   "outputs": [],
   "source": [
    "df = df.drop(columns=[\"TEXTO_ANTECEDENTE\"])"
   ]
  },
  {
   "cell_type": "markdown",
   "id": "de75c7a2",
   "metadata": {},
   "source": [
    "### Limpieza de texto"
   ]
  },
  {
   "cell_type": "code",
<<<<<<< HEAD
   "execution_count": 388,
=======
   "execution_count": 361,
>>>>>>> 5bfab5a (WIP: cambios locales antes del pull)
   "id": "62b1afc7",
   "metadata": {},
   "outputs": [],
   "source": [
    "def limpiar_texto(texto):\n",
    "        \n",
    "    texto = texto.lower()\n",
    "    texto = texto.strip()\n",
    "    \n",
    "    texto = re.sub(r'[^\\w\\s]', '', texto)\n",
    "    texto = re.sub(r'\\s+', ' ', texto)\n",
    "\n",
    "    texto = unicodedata.normalize('NFKD', texto).encode('ASCII', 'ignore').decode('utf-8')\n",
    "\n",
    "    return texto"
   ]
  },
  {
   "cell_type": "markdown",
   "id": "b36fe058",
   "metadata": {},
   "source": [
    "Se usa la funcion ***limpiar_texto*** el objetivo es normalizar los textos para facilitar la extraccion de keywords. Esta funcion convierte todo el contenido a minuscula, elimina tildes, signos de puntuación y espacios innecesarios, dejando un text limpio. Esto permite detectar con mayor precision los temas."
   ]
  },
  {
   "cell_type": "code",
<<<<<<< HEAD
   "execution_count": 389,
=======
   "execution_count": 362,
>>>>>>> 5bfab5a (WIP: cambios locales antes del pull)
   "id": "9c31015a",
   "metadata": {},
   "outputs": [
    {
     "data": {
      "text/plain": [
       "0    la senora allende ngracias presidente npor su ...\n",
       "1    la senora allende ngracias presidente nen prim...\n",
       "2    proyecto de acuerdo de los honorables senadore...\n",
       "3    de la senora allende n a la municipalidad de v...\n",
       "4    proyecto de acuerdo de los honorables senadore...\n",
       "Name: TEXTO_COMBINADO, dtype: object"
      ]
     },
<<<<<<< HEAD
     "execution_count": 389,
=======
     "execution_count": 362,
>>>>>>> 5bfab5a (WIP: cambios locales antes del pull)
     "metadata": {},
     "output_type": "execute_result"
    }
   ],
   "source": [
    "# Aplicar la funcion de limpieza a las columnas\n",
    "df['DESCRIPCION_DEBATE'] = df['DESCRIPCION_DEBATE'].apply(limpiar_texto)\n",
    "df['TEXTO_PRINCIPAL'] = df['TEXTO_PRINCIPAL'].apply(limpiar_texto)\n",
    "\n",
    "# Juntamos las columnas\n",
    "df[\"TEXTO_COMBINADO\"] = df[\"TEXTO_PRINCIPAL\"] + \" \" + df[\"DESCRIPCION_DEBATE\"]\n",
    "df[\"TEXTO_COMBINADO\"].head()"
   ]
  },
  {
   "cell_type": "markdown",
   "id": "1e000072",
   "metadata": {},
   "source": [
    "### Temas y palabras claves"
   ]
  },
  {
   "cell_type": "code",
<<<<<<< HEAD
   "execution_count": 390,
=======
   "execution_count": 363,
>>>>>>> 5bfab5a (WIP: cambios locales antes del pull)
   "id": "2ddb2fbe",
   "metadata": {},
   "outputs": [],
   "source": [
    "temas = {\n",
    "    \"salud\": [\"salud\", \"hospital\", \"hospitales\" \"medico\", \"vacuna\", \"enfermedad\", \"medicina\", \"medicamento\"],\n",
    "    \"educacion\": [\"educacion\", \"colegio\", \"escuela\", \"universidad\", \"profesor\", \"alumno\", \"estudiante\", \"educador\", \"colegios\"],\n",
    "    \"delincuencia\": [\"delincuencia\", \"carabinero\", \"robo\", \"narcotrafico\", \"seguridad\", \"delito\", \"delincuente\", \"delincuentes\"],\n",
    "    \"medio ambiente\": [\"medioambiente\", \"naturaleza\", \"contaminacion\", \"reciclaje\", \"agua\", \"bosque\", \"bosques\", \"flora\", \"fauna\", \"ecosistema\", \"ecosistemas\"],\n",
    "    \"economia\": [\"economia\", \"dinero\", \"impuesto\", \"trabajo\", \"impuestos\", \"empresa\", \"empresas\", \"negocio\", \"negocios\", \"inversion\", \"inversiones\", \"financiero\", \"financieros\"],\n",
    "    \"constitucion\": [\"constitucion\", \"constitucional\"],\n",
    "    \"vivienda\": [\"vivienda\", \"casa\", \"alquiler\", \"arrendar\"],\n",
    "    \"transporte\": [\"transporte\", \"metro\", \"camino\", \"micro\"],\n",
    "    \"derechos humanos\": [\"derechos humanos\", \"derechos\", \"humanos\", \"discriminacion\", \"discriminacion\", \"discriminados\", \"discriminados\", \"discriminacion\", \"discriminaciones\", \"humanitaria\"],\n",
    "    \"legislacion\": [\"legislacion\", \"ley\", \"leyes\", \"legislativo\", \"legislativa\"],\n",
    "    \"justicia\": [\"justicia\", \"justicia\", \"jueces\", \"juez\", \"tribunal\", \"tribunales\"],\n",
    "}"
   ]
  },
  {
   "cell_type": "code",
<<<<<<< HEAD
   "execution_count": 391,
=======
   "execution_count": 364,
>>>>>>> 5bfab5a (WIP: cambios locales antes del pull)
   "id": "29b71eed",
   "metadata": {},
   "outputs": [],
   "source": [
    "def asignar_keywords(texto):\n",
    "    palabras = texto.split()\n",
    "    etiquetas = set()\n",
    "    for tema, claves in temas.items():\n",
    "        for palabra in claves:\n",
    "            if (palabra in palabras):\n",
    "                etiquetas.add(tema)\n",
    "       \n",
    "    return list(etiquetas)"
   ]
  },
  {
   "cell_type": "code",
<<<<<<< HEAD
   "execution_count": 392,
=======
   "execution_count": 365,
>>>>>>> 5bfab5a (WIP: cambios locales antes del pull)
   "id": "0b922b7f",
   "metadata": {},
   "outputs": [],
   "source": [
    "# Se agrupan por descripción debate, para poder aplicar la función de asignar_keywords a cada grupo de manera más eficiente\n",
    "grouped_df = df.groupby(\"DESCRIPCION_DEBATE\").first().reset_index()\n",
    "grouped_df[\"KEYWORDS\"] = grouped_df[\"TEXTO_COMBINADO\"].apply(asignar_keywords)\n",
    "\n",
    "df = df.merge(grouped_df[[\"TEXTO_COMBINADO\", \"KEYWORDS\"]], on=\"TEXTO_COMBINADO\", how=\"left\")"
   ]
  },
  {
   "cell_type": "markdown",
   "id": "d9e8906d",
   "metadata": {},
   "source": [
    "### Conclusion:\n"
   ]
  },
  {
   "cell_type": "markdown",
   "id": "20e744ab",
   "metadata": {},
   "source": [
    "\n",
    "Se realizo el preprocesamiento de las intervenciones parlamentarias con el objetivo de identificar las tematicas. Para esto, se aplico una funcion de limpieza que normalizo el texto (conversion a minusculas, eliminacion de tildes, puntuacion y espacios innecesarios). Luego, se unieron las columnas `TEXTO_ANTECEDENTE` y `DESCRIPCION_DEBATE` para generar un texto combinado. Finalmente, se aplico una funcion que detecta las palabras clave y asigna a cada intervencion una o mas temas, permitiendo categorizar los discursos parlamentarios segun temas como salud, educación, delincuencia, entre otros. Para optimizar la asignación, se agruparon las filas por la columna `DESCRIPCION_DEBATE`, ya que muchas compartian o eran de un mismo debate, para así acortar el tiempo de ejecución de asignación"
   ]
  },
  {
   "cell_type": "markdown",
   "id": "ccd98bc3",
   "metadata": {},
   "source": [
    "## Parte 2 - [1 pts] - Modelamiento"
   ]
  },
  {
   "cell_type": "markdown",
   "id": "4598b200",
   "metadata": {},
   "source": [
    "### Revisión Tipo de Datos"
   ]
  },
  {
   "cell_type": "code",
<<<<<<< HEAD
   "execution_count": 393,
=======
   "execution_count": 366,
>>>>>>> 5bfab5a (WIP: cambios locales antes del pull)
   "id": "63de5108",
   "metadata": {},
   "outputs": [
    {
     "name": "stdout",
     "output_type": "stream",
     "text": [
      "<class 'pandas.core.frame.DataFrame'>\n",
      "RangeIndex: 1199 entries, 0 to 1198\n",
      "Data columns (total 12 columns):\n",
      " #   Column                 Non-Null Count  Dtype  \n",
      "---  ------                 --------------  -----  \n",
      " 0   PARLAMENTARIO_ID       1199 non-null   int64  \n",
      " 1   NOMBRE_COMPLETO        1199 non-null   object \n",
      " 2   VIGENTE                1199 non-null   int64  \n",
      " 3   FECHA_NACIMIENTO       206 non-null    object \n",
      " 4   REDES_SOCIALES         0 non-null      float64\n",
      " 5   SITIOS_WEB             0 non-null      float64\n",
      " 6   CAMARA_ACTUAL          206 non-null    object \n",
      " 7   CAMARA                 206 non-null    object \n",
      " 8   INICIO                 206 non-null    float64\n",
      " 9   FINAL                  206 non-null    float64\n",
      " 10  PARTIDO_POLITICO       155 non-null    object \n",
      " 11  UNIDAD_QUE_REPRESENTA  205 non-null    object \n",
      "dtypes: float64(4), int64(2), object(6)\n",
      "memory usage: 112.5+ KB\n"
     ]
    }
   ],
   "source": [
    "parlamentarios_info.info()"
   ]
  },
  {
   "cell_type": "code",
<<<<<<< HEAD
   "execution_count": 394,
=======
   "execution_count": 367,
>>>>>>> 5bfab5a (WIP: cambios locales antes del pull)
   "id": "1e8676ca",
   "metadata": {},
   "outputs": [
    {
     "name": "stdout",
     "output_type": "stream",
     "text": [
      "<class 'pandas.core.frame.DataFrame'>\n",
      "RangeIndex: 68161 entries, 0 to 68160\n",
      "Data columns (total 14 columns):\n",
      " #   Column              Non-Null Count  Dtype  \n",
      "---  ------              --------------  -----  \n",
      " 0   ID_PARTICIPACION    68161 non-null  int64  \n",
      " 1   PARLAMENTARIO_ID    68161 non-null  int64  \n",
      " 2   FECHA               68161 non-null  object \n",
      " 3   LEGISLATURA         68161 non-null  int64  \n",
      " 4   SESION              68161 non-null  int64  \n",
      " 5   TIPO_SESION         68161 non-null  object \n",
      " 6   TIPO_PARTICIPACION  68161 non-null  object \n",
      " 7   CAMARA              68161 non-null  object \n",
      " 8   PARLAMENTARIOS      68161 non-null  object \n",
      " 9   TEXTO_PRINCIPAL     68161 non-null  object \n",
      " 10  DESCRIPCION_DEBATE  68161 non-null  object \n",
      " 11  BOLETIN_ID          20593 non-null  float64\n",
      " 12  TEXTO_COMBINADO     68161 non-null  object \n",
      " 13  KEYWORDS            19803 non-null  object \n",
      "dtypes: float64(1), int64(4), object(9)\n",
      "memory usage: 7.3+ MB\n"
     ]
    }
   ],
   "source": [
    "df.info()"
   ]
  },
  {
   "cell_type": "markdown",
   "id": "f5ad30f0",
   "metadata": {},
   "source": [
    "Falta realizar el trabajo de las tablas y las consultas que se piden:\n",
    "\n",
    "Luego, ten presente que harás las siguientes consultas:\n",
    "\n",
    "\n",
    "¿Cuáles son las top 5 temáticas más tratadas, para cada mes en el que hay registros?\n",
    "\n",
    "Media móvil de intervenciones por partido político con un intervalo de 3 meses.\n",
    "\n",
    "Para cada trimestre, ver el tema principal tratado por cada partido político.\n",
    "\n",
    "Poder pararse en un mes y ver cuál es el top 3 de temáticas tratadas por cada partido. Esto vas a querer repetirlo para algunos meses.\n"
   ]
  },
  {
   "cell_type": "markdown",
   "id": "a8a7b5dd",
   "metadata": {},
   "source": [
    "***Para esta parte vamos a trabajar con `SQL`***"
   ]
  },
  {
   "cell_type": "markdown",
   "id": "3f77decc",
   "metadata": {},
   "source": [
    "### Las tablas son: "
   ]
  },
  {
   "cell_type": "markdown",
   "id": "ddbbd0bb",
   "metadata": {},
   "source": [
    "```sql\n",
    "Table Parlamentarios {\n",
    "  parlamentario_id integer [pk]\n",
    "  nombre_completo varchar\n",
    "  vigente boolean\n",
    "  fecha_nacimiento date\n",
    "  camara_actual varchar\n",
    "  camara varchar\n",
    "  inicio integer\n",
    "  final integer\n",
    "  partido_id integer [ref: > Partidos_Politico.partido_id]\n",
    "  unidad_que_representa varchar\n",
    "}\n",
    "\n",
    "Table Partidos_Politico {\n",
    "  partido_id integer [pk]\n",
    "  nombre varchar\n",
    "}\n",
    "\n",
    "Table Debates {\n",
    "  debate_id integer [pk]\n",
    "  descripcion_debate varchar\n",
    "  fecha timestamp\n",
    "  boletin_id varchar\n",
    "}\n",
    "\n",
    "Table Participaciones {\n",
    "  participacion_id integer [pk]\n",
    "  parlamentario_id integer [ref: > Parlamentarios.parlamentario_id]\n",
    "  debate_id integer [ref: > Debates.debate_id]\n",
    "  fecha timestamp\n",
    "  legislatura integer\n",
    "  sesion integer\n",
    "  tipo_sesion varchar\n",
    "  tipo_participacion varchar\n",
    "  camara varchar\n",
    "}\n",
    "\n",
    "Table Intervenciones {\n",
    "  intervencion_id integer [pk]\n",
    "  participacion_id integer [ref: > Participaciones.participacion_id]\n",
    "  texto varchar\n",
    "}\n",
    "\n",
    "Table Keywords {\n",
    "  keyword_id integer [pk]\n",
    "  nombre varchar\n",
    "}\n",
    "\n",
    "Table Intervenciones_Keywords {\n",
    "  intervencion_id integer [ref: > Intervenciones.intervencion_id]\n",
    "  keyword_id integer [ref: > Keywords.keyword_id]\n",
    "}\n",
    "```"
   ]
  },
  {
   "cell_type": "markdown",
   "id": "34b032db",
   "metadata": {},
   "source": [
    "### Conuslta 1: ***Cuales son las top 5 tematicas mas tratadas, para cada mes en el que hay registros.***"
   ]
  },
  {
   "cell_type": "markdown",
   "id": "5ca25825",
   "metadata": {},
   "source": [
    "<h4> El codigo es: </h4>\n",
    "\n",
    "```sql\n",
    "SELECT \n",
    "  FORMAT_TIMESTAMP('%Y-%m', p.fecha) AS mes,\n",
    "  k.nombre AS keyword,\n",
    "  COUNT(*) AS total,\n",
    "  RANK() OVER (PARTITION BY FORMAT_TIMESTAMP('%Y-%m', p.fecha) ORDER BY COUNT(*) DESC) AS ranking\n",
    "FROM Intervenciones_Keywords ik\n",
    "JOIN Intervenciones i ON ik.intervencion_id = i.intervencion_id\n",
    "JOIN Participaciones p ON i.participacion_id = p.participacion_id\n",
    "JOIN Keywords k ON ik.keyword_id = k.keyword_id\n",
    "GROUP BY mes, keyword\n",
    "HAVING ranking <= 5\n",
    "ORDER BY mes, ranking;\n",
    "```\n"
   ]
  },
  {
   "cell_type": "markdown",
   "id": "0562ec53",
   "metadata": {},
   "source": [
    "### Consulta 2: ***Media movil de intervenciones por partido politico con un intervalo de 3 meses.***\n"
   ]
  },
  {
   "cell_type": "markdown",
   "id": "1d4b420e",
   "metadata": {},
   "source": [
    "<h4> El codigo es: </h4>\n",
    "\n",
    "\n",
    "```sql\n",
    "WITH intervenciones_por_partido AS (\n",
    "  SELECT \n",
    "    pa.partido_id,\n",
    "    FORMAT_TIMESTAMP('%Y-%m', par.fecha) AS mes,\n",
    "    COUNT(*) AS total_intervenciones\n",
    "  FROM Intervenciones i\n",
    "  JOIN Participaciones par ON i.participacion_id = par.participacion_id\n",
    "  JOIN Parlamentarios pa ON par.parlamentario_id = pa.parlamentario_id\n",
    "  GROUP BY pa.partido_id, mes\n",
    "),\n",
    "movil AS (\n",
    "  SELECT \n",
    "    partido_id,\n",
    "    mes,\n",
    "    AVG(total_intervenciones) OVER (\n",
    "      PARTITION BY partido_id\n",
    "      ORDER BY mes\n",
    "      ROWS BETWEEN 1 PRECEDING AND 1 FOLLOWING\n",
    "    ) AS media_movil\n",
    "  FROM intervenciones_por_partido\n",
    ")\n",
    "SELECT * FROM movil;\n",
    "```\n"
   ]
  },
  {
   "cell_type": "markdown",
   "id": "d2d9eedf",
   "metadata": {},
   "source": [
    "### Consulta 3:  ***Para cada trimestre, ver el tema principal tratado por cada partido politico.***"
   ]
  },
  {
   "cell_type": "markdown",
   "id": "bb7517d8",
   "metadata": {},
   "source": [
    "<h4> El codigo es: </h4>\n",
    "\n",
    "\n",
    "```sql\n",
    "where\n",
    "\n",
    "SELECT usuario_id, \n",
    "FROM `tabla_tarea.datos_tarea` as dt\n",
    "WHERE fruta = \"kiwi\"\n",
    "SELECT \n",
    "  DATE_TRUNC(p.fecha, QUARTER) AS trimestre,\n",
    "  pa.partido_id,\n",
    "  k.nombre AS keyword,\n",
    "  COUNT(*) AS total,\n",
    "  RANK() OVER (\n",
    "    PARTITION BY DATE_TRUNC(p.fecha, QUARTER), pa.partido_id\n",
    "    ORDER BY COUNT(*) DESC\n",
    "  ) AS ranking\n",
    "FROM Intervenciones_Keywords ik\n",
    "JOIN Intervenciones i ON ik.intervencion_id = i.intervencion_id\n",
    "JOIN Participaciones p ON i.participacion_id = p.participacion_id\n",
    "JOIN Parlamentarios pa ON p.parlamentario_id = pa.parlamentario_id\n",
    "JOIN Keywords k ON ik.keyword_id = k.keyword_id\n",
    "GROUP BY trimestre, pa.partido_id, keyword\n",
    "HAVING ranking = 1\n",
    "ORDER BY trimestre, partido_id;\n",
    "```"
   ]
  },
  {
   "cell_type": "markdown",
   "id": "7c6dcbb6",
   "metadata": {},
   "source": [
    "### Consulta 4: ***Poder pararse en un mes y ver cual es el top 3 de tematicas tratada por cada partido. Esto vas a querer repetirlo para algunos meses***"
   ]
  },
  {
   "cell_type": "markdown",
   "id": "db8c18ef",
   "metadata": {},
   "source": [
    "<h4> El codigo es: </h4>\n",
    "\n",
    "```sql\n",
    "where\n",
    "\n",
    "SELECT usuario_id, \n",
    "FROM `tabla_tarea.datos_tarea` as dt\n",
    "WHERE fruta = \"kiwi\"\n",
    "SELECT \n",
    "  pa.partido_id,\n",
    "  k.nombre AS keyword,\n",
    "  COUNT(*) AS total,\n",
    "  RANK() OVER (\n",
    "    PARTITION BY pa.partido_id\n",
    "    ORDER BY COUNT(*) DESC\n",
    "  ) AS ranking\n",
    "FROM Intervenciones_Keywords ik\n",
    "JOIN Intervenciones i ON ik.intervencion_id = i.intervencion_id\n",
    "JOIN Participaciones p ON i.participacion_id = p.participacion_id\n",
    "JOIN Parlamentarios pa ON p.parlamentario_id = pa.parlamentario_id\n",
    "JOIN Keywords k ON ik.keyword_id = k.keyword_id\n",
    "WHERE FORMAT_TIMESTAMP('%Y-%m', p.fecha) = '2022-03'\n",
    "GROUP BY pa.partido_id, keyword\n",
    "HAVING ranking <= 3\n",
    "ORDER BY pa.partido_id, ranking;\n",
    "```"
   ]
  },
  {
   "cell_type": "markdown",
   "id": "2032f4de",
   "metadata": {},
   "source": [
    "## Parte 3 - [1.5 pts] - BigQuery"
   ]
  },
  {
   "cell_type": "code",
<<<<<<< HEAD
   "execution_count": 395,
   "id": "188f1379",
=======
   "execution_count": 368,
   "id": "9bf00075",
>>>>>>> 5bfab5a (WIP: cambios locales antes del pull)
   "metadata": {},
   "outputs": [],
   "source": [
    "# Crear los dataframes necesarios a partir de los CSV existentes\n",
    "partidos = parlamentarios_info[['PARTIDO_POLITICO']].drop_duplicates().dropna().reset_index(drop=True)\n",
    "partidos.columns = ['NOMBRE_PARTIDO']\n",
    "df_debates = df[[\"DESCRIPCION_DEBATE\", \"TEXTO_COMBINADO\"]].drop_duplicates()\n",
    "\n",
    "df_intervenciones = df.drop(columns=[\"KEYWORDS\"])\n",
    "df_intervenciones_keywords = df[[\"TEXTO_COMBINADO\", \"KEYWORDS\"]].explode(\"KEYWORDS\").drop_duplicates()"
   ]
  },
  {
   "cell_type": "code",
<<<<<<< HEAD
   "execution_count": 396,
   "id": "04d3a767",
=======
   "execution_count": 370,
   "id": "f473af67",
>>>>>>> 5bfab5a (WIP: cambios locales antes del pull)
   "metadata": {},
   "outputs": [],
   "source": [
    "# DataFrame Parlamentarios\n",
    "parlamentarios_info[\"PARTIDO_POLITICO\"] = parlamentarios_info[\"PARTIDO_POLITICO\"].fillna(\"Independiente\")\n",
    "parlamentarios = parlamentarios_info.copy()\n",
    "parlamentarios = parlamentarios.drop(columns=[\"REDES_SOCIALES\", \"SITIOS_WEB\", \"PARTIDO_POLITICO\"])\n",
    "\n",
    "# DataFrame de partidos políticos\n",
    "partidos = parlamentarios_info[[\"PARTIDO_POLITICO\"]].drop_duplicates().reset_index(drop=True)\n",
    "partidos[\"PARTIDO_ID\"] = range(1, len(partidos) + 1)\n",
    "partidos.columns = [\"PARTIDO_POLITICO\", \"PARTIDO_ID\"]\n",
    "partido_to_id = partidos.set_index(\"PARTIDO_POLITICO\")[\"PARTIDO_ID\"].to_dict()\n",
    "partidos.to_csv(\"Partidos_Politico.csv\", index=False)\n",
    "\n",
    "parlamentarios[\"PARTIDO_ID\"] = parlamentarios_info[\"PARTIDO_POLITICO\"].map(partido_to_id)\n",
    "parlamentarios.to_csv(\"Parlamentarios.csv\", index=False)\n",
    "\n",
    "# DataFrame Debates\n",
    "debates = df.copy()\n",
    "debates[\"DEBATE_ID\"] = debates.groupby([\"DESCRIPCION_DEBATE\"]).ngroup() + 1\n",
    "debates[\"BOLETIN_ID\"] = debates[\"BOLETIN_ID\"].fillna(0).astype(int)\n",
    "\n",
    "debates = debates[[\"DEBATE_ID\", \"DESCRIPCION_DEBATE\", \"FECHA\", \"BOLETIN_ID\"]]\n",
    "debates = debates.drop_duplicates(subset=[\"DESCRIPCION_DEBATE\"])\n",
    "\n",
    "debates = debates.sort_values(by=\"DEBATE_ID\").reset_index(drop=True)\n",
    "debates.to_csv(\"Debates.csv\", index=False)\n",
    "\n",
    "# DataFrame Participaciones\n",
    "participaciones = df.copy()\n",
    "\n",
    "debate_to_id = debates.set_index(\"DESCRIPCION_DEBATE\")[\"DEBATE_ID\"].to_dict()\n",
    "participaciones[\"DEBATE_ID\"] = participaciones[\"DESCRIPCION_DEBATE\"].map(debate_to_id)\n",
    "\n",
    "participaciones = participaciones[[ \"ID_PARTICIPACION\", \"PARLAMENTARIO_ID\", \"DEBATE_ID\", \"FECHA\", \"LEGISLATURA\", \"SESION\", \"TIPO_SESION\", \"TIPO_PARTICIPACION\", \"CAMARA\"]]\n",
    "\n",
    "participaciones = participaciones.sort_values(by=\"ID_PARTICIPACION\").reset_index(drop=True)\n",
    "participaciones.to_csv(\"Participaciones.csv\", index=False)\n",
    "\n",
    "# DataFrame Keywords\n",
    "keywords = pd.DataFrame(list(temas.items()), columns=[\"Tema\", \"Palabras_Clave\"])\n",
    "keywords.rename(columns={\"Tema\": \"KEYWORD\"}, inplace=True)\n",
    "keywords.drop(columns=[\"Palabras_Clave\"], inplace=True)\n",
    "keywords[\"KEYWORD_ID\"] = range(1, len(keywords) + 1)\n",
    "keywords.to_csv(\"Keywords.csv\", index=False)\n",
    "\n",
    "# DataFrame Intervenciones\n",
    "intervenciones = df[[\"ID_PARTICIPACION\", \"TEXTO_PRINCIPAL\"]].copy()\n",
    "intervenciones[\"INTERVENCION_ID\"] = range(1, len(intervenciones) + 1)\n",
    "intervenciones = intervenciones[[\"INTERVENCION_ID\", \"ID_PARTICIPACION\", \"TEXTO_PRINCIPAL\"]]\n",
    "intervenciones = intervenciones.sort_values(by=\"INTERVENCION_ID\").reset_index(drop=True)\n",
    "intervenciones.to_csv(\"Intervenciones.csv\", index=False)\n",
    "\n",
    "# Explode la columna KEYWORDS en el DataFrame original para separar las keywords en filas individuales\n",
    "df_intervenciones_keywords = df[[\"ID_PARTICIPACION\", \"KEYWORDS\"]].explode(\"KEYWORDS\").dropna(subset=[\"KEYWORDS\"])\n",
    "\n",
    "# Mapear ID_PARTICIPACION a INTERVENCION_ID desde el DataFrame de intervenciones\n",
    "id_participacion_to_intervencion_id = intervenciones.set_index(\"ID_PARTICIPACION\")[\"INTERVENCION_ID\"].to_dict()\n",
    "df_intervenciones_keywords[\"INTERVENCION_ID\"] = df_intervenciones_keywords[\"ID_PARTICIPACION\"].map(id_participacion_to_intervencion_id)\n",
    "\n",
    "# Mapear KEYWORDS a KEYWORD_ID desde el DataFrame de keywords\n",
    "keyword_to_id = keywords.set_index(\"KEYWORD\")[\"KEYWORD_ID\"].to_dict()\n",
    "df_intervenciones_keywords[\"KEYWORD_ID\"] = df_intervenciones_keywords[\"KEYWORDS\"].map(keyword_to_id)\n",
    "\n",
    "# Filtrar solo las columnas necesarias y eliminar duplicados\n",
    "df_intervenciones_keywords = df_intervenciones_keywords[[\"INTERVENCION_ID\", \"KEYWORD_ID\"]].dropna().drop_duplicates()\n",
    "\n",
    "# Guardar el DataFrame como CSV\n",
    "df_intervenciones_keywords.to_csv(\"Intervenciones_Keywords.csv\", index=False)\n"
   ]
  },
  {
   "cell_type": "markdown",
   "id": "28543084",
   "metadata": {},
   "source": [
    "## Parte 4 - [2 pts] - Informe"
   ]
  },
  {
   "cell_type": "markdown",
   "id": "0cc10a98",
   "metadata": {},
   "source": [
    "ver pdf: **P4_T2_Datos_Masivos.pdf**"
   ]
  },
  {
   "cell_type": "markdown",
   "id": "02260d8b",
   "metadata": {},
   "source": [
    "## Parte 5 - [0.5 pts] - Resumen ejecutivo"
   ]
  }
 ],
 "metadata": {
  "kernelspec": {
   "display_name": "Python 3",
   "language": "python",
   "name": "python3"
  },
  "language_info": {
   "codemirror_mode": {
    "name": "ipython",
    "version": 3
   },
   "file_extension": ".py",
   "mimetype": "text/x-python",
   "name": "python",
   "nbconvert_exporter": "python",
   "pygments_lexer": "ipython3",
   "version": "3.11.9"
  }
 },
 "nbformat": 4,
 "nbformat_minor": 5
}
