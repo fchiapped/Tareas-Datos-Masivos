{
 "cells": [
  {
   "cell_type": "code",
   "execution_count": 17,
   "id": "9df726bf",
   "metadata": {},
   "outputs": [],
   "source": [
    "import pandas as pd\n",
    "import numpy as np\n",
    "import matplotlib.pyplot as plt"
   ]
  },
  {
   "cell_type": "code",
   "execution_count": 18,
   "id": "37637a31",
   "metadata": {},
   "outputs": [],
   "source": [
    "parlamentarios_info = pd.read_csv('participacion/parlamentarios_info_general.csv')\n",
    "descripcion_2023_1 = pd.read_csv('participacion/participacion_descripcion_2023_1.csv')\n",
    "descripcion_2023_2 = pd.read_csv('participacion/participacion_descripcion_2023_2.csv')\n",
    "descripcion_2024 = pd.read_csv('participacion/participacion_descripcion_2024.csv')"
   ]
  },
  {
   "cell_type": "code",
   "execution_count": 19,
   "id": "27f48c3c",
   "metadata": {},
   "outputs": [
    {
     "name": "stdout",
     "output_type": "stream",
     "text": [
      "'DESCRIPCION_DEBATE' distintos: 5932 en 68161 filas\n"
     ]
    }
   ],
   "source": [
    "combined_df = pd.concat([descripcion_2023_1, descripcion_2023_2, descripcion_2024], ignore_index=True)\n",
    "\n",
    "\n",
    "total_rows = combined_df.shape[0]\n",
    "unique_values = combined_df[\"DESCRIPCION_DEBATE\"].nunique()\n",
    "print(f\"'DESCRIPCION_DEBATE' distintos: {unique_values} en {total_rows} filas\")\n"
   ]
  },
  {
   "cell_type": "code",
   "execution_count": 20,
   "id": "292be7d4",
   "metadata": {},
   "outputs": [
    {
     "name": "stdout",
     "output_type": "stream",
     "text": [
      "DESCRIPCION_DEBATE\n",
      "OTROS DOCUMENTOS DE LA CUENTA                                                                                                                                                                                                                                                                                                                                                                                                                  9598\n",
      "PETICIONES DE OFICIO. ARTÍCULOS 9° Y 9° A DE LA LEY ORGÁNICA CONSTITUCIONAL DEL CONGRESO NACIONAL.                                                                                                                                                                                                                                                                                                                                             2028\n",
      "PETICIONES DE OFICIOS. ARTÍCULOS 9° Y 9° A DE LA LEY ORGÁNICA CONSTITUCIONAL DEL CONGRESO NACIONAL.                                                                                                                                                                                                                                                                                                                                            1025\n",
      "﻿INFORME DE LA COMISION DE HACIENDA RECAÍDO EN EL PROYECTO DE LEY QUE ESTABLECE REFORMA TRIBUTARIA HACIA UN PACTO FISCAL POR EL DESARROLLO Y LA JUSTICIA SOCIAL. Boletín N° 15170-05                                                                                                                                                                                                                                                            955\n",
      "﻿INFORME DE LAS COMISIONES DE EDUCACIÓN, DE SALUD, Y DE LA MUJER Y EQUIDAD DE GÉNERO, UNIDAS, recaído en el proyecto de ley, en segundo trámite constitucional, que establece, promueve y garantiza la atención médica, social y educativa, así como la protección e inclusión de las personas con la condición del espectro autista u otra condición que afecte el neurodesarrollo.\\n  BOLETINES NOS 14.310-35 Y 14.549-35, REFUNDIDOS\\n       801\n",
      "Name: count, dtype: int64\n"
     ]
    }
   ],
   "source": [
    "top_5_topics = combined_df['DESCRIPCION_DEBATE'].value_counts().head(5)\n",
    "print(top_5_topics)"
   ]
  },
  {
   "cell_type": "markdown",
   "id": "369c57af",
   "metadata": {},
   "source": [
    "Hay que separar los 5932, ver si se va a hacer con keywords "
   ]
  },
  {
   "cell_type": "code",
   "execution_count": 21,
   "id": "1441ce48",
   "metadata": {
    "vscode": {
     "languageId": "shellscript"
    }
   },
   "outputs": [
    {
     "name": "stdout",
     "output_type": "stream",
     "text": [
      "'DESCRIPCION_DEBATE' distintos después de normalización: 5921\n"
     ]
    }
   ],
   "source": [
    "# Normalizar los temas en la columna 'DESCRIPCION_DEBATE'\n",
    "combined_df['DESCRIPCION_DEBATE'] = combined_df['DESCRIPCION_DEBATE'].str.lower()  # Convertir a minúsculas\n",
    "combined_df['DESCRIPCION_DEBATE'] = combined_df['DESCRIPCION_DEBATE'].str.strip()  # Eliminar espacios al inicio y al final\n",
    "combined_df['DESCRIPCION_DEBATE'] = combined_df['DESCRIPCION_DEBATE'].str.replace(r'\\s+', ' ', regex=True)  # Reemplazar múltiples espacios por uno\n",
    "\n",
    "# Verificar los valores únicos después de la normalización\n",
    "unique_values_normalized = combined_df[\"DESCRIPCION_DEBATE\"].nunique()\n",
    "print(f\"'DESCRIPCION_DEBATE' distintos después de normalización: {unique_values_normalized}\")"
   ]
  },
  {
   "cell_type": "markdown",
   "id": "13f3a200",
   "metadata": {},
   "source": [
    "Esto no sirve directamente, pero es para saber que hay varios que tienen detalles así y que al revisarlo por texto sale similiar"
   ]
  }
 ],
 "metadata": {
  "kernelspec": {
   "display_name": "Python 3",
   "language": "python",
   "name": "python3"
  },
  "language_info": {
   "codemirror_mode": {
    "name": "ipython",
    "version": 3
   },
   "file_extension": ".py",
   "mimetype": "text/x-python",
   "name": "python",
   "nbconvert_exporter": "python",
   "pygments_lexer": "ipython3",
   "version": "3.13.3"
  }
 },
 "nbformat": 4,
 "nbformat_minor": 5
}
