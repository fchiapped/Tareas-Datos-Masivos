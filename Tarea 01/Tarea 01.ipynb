{
 "cells": [
  {
   "cell_type": "markdown",
   "id": "d465b00c",
   "metadata": {},
   "source": [
    "<h2><center>IIC2440 – Procesamiento de Datos Masivos</center></h2>\n",
    "<h3><center>Tarea 1: Análisis sesiones parlamentarias</center></h3>\n",
    "\n",
    "\n",
    "**Integrantes:**\n",
    "- Franco Chiappe\n",
    "- Tomás Pérez"
   ]
  },
  {
   "cell_type": "markdown",
   "id": "cd384384",
   "metadata": {},
   "source": [
    "### Librerias"
   ]
  },
  {
   "cell_type": "code",
   "execution_count": 2,
   "id": "9df726bf",
   "metadata": {},
   "outputs": [],
   "source": [
    "# Importar librerias \n",
    "import pandas as pd\n",
    "import numpy as np\n",
    "import matplotlib.pyplot as plt\n",
    "import re\n",
    "import unicodedata"
   ]
  },
  {
   "cell_type": "markdown",
   "id": "7fdad26f",
   "metadata": {},
   "source": [
    "## Parte 1 [1 pto] - Procesando los datos"
   ]
  },
  {
   "cell_type": "code",
   "execution_count": 3,
   "id": "ae3949cf",
   "metadata": {},
   "outputs": [],
   "source": [
    "# Cargar los datos\n",
    "parlamentarios_info = pd.read_csv('participacion/parlamentarios_info_general.csv')\n",
    "descripcion_2023_1 = pd.read_csv('participacion/participacion_descripcion_2023_1.csv')\n",
    "descripcion_2023_2 = pd.read_csv('participacion/participacion_descripcion_2023_2.csv')\n",
    "descripcion_2024 = pd.read_csv('participacion/participacion_descripcion_2024.csv')\n",
    "df = pd.concat([descripcion_2023_1, descripcion_2023_2, descripcion_2024], ignore_index=True)"
   ]
  },
  {
   "cell_type": "markdown",
   "id": "3d49894e",
   "metadata": {},
   "source": [
    "### Pre-Procesamiento de Datos"
   ]
  },
  {
   "cell_type": "code",
   "execution_count": 4,
   "id": "c5946be0",
   "metadata": {},
   "outputs": [
    {
     "name": "stdout",
     "output_type": "stream",
     "text": [
      "<class 'pandas.core.frame.DataFrame'>\n",
      "RangeIndex: 68161 entries, 0 to 68160\n",
      "Data columns (total 13 columns):\n",
      " #   Column              Non-Null Count  Dtype  \n",
      "---  ------              --------------  -----  \n",
      " 0   ID_PARTICIPACION    68161 non-null  int64  \n",
      " 1   PARLAMENTARIO_ID    68161 non-null  int64  \n",
      " 2   FECHA               68161 non-null  object \n",
      " 3   LEGISLATURA         68161 non-null  int64  \n",
      " 4   SESION              68161 non-null  int64  \n",
      " 5   TIPO_SESION         68161 non-null  object \n",
      " 6   TIPO_PARTICIPACION  68161 non-null  object \n",
      " 7   CAMARA              68161 non-null  object \n",
      " 8   PARLAMENTARIOS      68161 non-null  object \n",
      " 9   TEXTO_PRINCIPAL     68161 non-null  object \n",
      " 10  TEXTO_ANTECEDENTE   32393 non-null  object \n",
      " 11  DESCRIPCION_DEBATE  68161 non-null  object \n",
      " 12  BOLETIN_ID          20593 non-null  float64\n",
      "dtypes: float64(1), int64(4), object(8)\n",
      "memory usage: 6.8+ MB\n"
     ]
    }
   ],
   "source": [
    "df.info()"
   ]
  },
  {
   "cell_type": "markdown",
   "id": "79907165",
   "metadata": {},
   "source": [
    "Nos damos cuenta que en las columnas:\n",
    "\n",
    "- `TEXTO_ANTECEDENTE` tiene 35768  datos nulos\n",
    "- `BOLETIN_ID` tiene 47568 datos nulos\n",
    "\n",
    "Decidimos eliminar la columna `TEXTO_ANTECEDENTE`, porque presentaba un alto porcentaje de datos nulos y no aportaba informacion relevante. Por otro parte, no eliminamos la columna `BOLETIN_ID`, esta columna podria resultar util para analisis futuros."
   ]
  },
  {
   "cell_type": "code",
   "execution_count": 5,
   "id": "d245420f",
   "metadata": {},
   "outputs": [],
   "source": [
    "df = df.drop(columns=[\"TEXTO_ANTECEDENTE\"])"
   ]
  },
  {
   "cell_type": "markdown",
   "id": "de75c7a2",
   "metadata": {},
   "source": [
    "### Limpieza de texto"
   ]
  },
  {
   "cell_type": "code",
   "execution_count": 6,
   "id": "62b1afc7",
   "metadata": {},
   "outputs": [],
   "source": [
    "def limpiar_texto(texto):\n",
    "        \n",
    "    texto = texto.lower()\n",
    "    texto = texto.strip()\n",
    "    \n",
    "    texto = re.sub(r'[^\\w\\s]', '', texto)\n",
    "    texto = re.sub(r'\\s+', ' ', texto)\n",
    "\n",
    "    texto = unicodedata.normalize('NFKD', texto).encode('ASCII', 'ignore').decode('utf-8')\n",
    "\n",
    "    return texto"
   ]
  },
  {
   "cell_type": "markdown",
   "id": "b36fe058",
   "metadata": {},
   "source": [
    "Se usa la funcion ***limpiar_texto*** el objetivo es normalizar los textos para facilitar la extraccion de keywords. Esta funcion convierte todo el contenido a minuscula, elimina tildes, signos de puntuación y espacios innecesarios, dejando un text limpio. Esto permite detectar con mayor precision los temas."
   ]
  },
  {
   "cell_type": "code",
   "execution_count": 7,
   "id": "9c31015a",
   "metadata": {},
   "outputs": [
    {
     "data": {
      "text/plain": [
       "0    la senora allende ngracias presidente npor su ...\n",
       "1    la senora allende ngracias presidente nen prim...\n",
       "2    proyecto de acuerdo de los honorables senadore...\n",
       "3    de la senora allende n a la municipalidad de v...\n",
       "4    proyecto de acuerdo de los honorables senadore...\n",
       "Name: TEXTO_COMBINADO, dtype: object"
      ]
     },
     "execution_count": 7,
     "metadata": {},
     "output_type": "execute_result"
    }
   ],
   "source": [
    "# Aplicar la funcion de limpieza a las columnas\n",
    "df['DESCRIPCION_DEBATE'] = df['DESCRIPCION_DEBATE'].apply(limpiar_texto)\n",
    "df['TEXTO_PRINCIPAL'] = df['TEXTO_PRINCIPAL'].apply(limpiar_texto)\n",
    "\n",
    "# Juntamos las columnas\n",
    "df[\"TEXTO_COMBINADO\"] = df[\"TEXTO_PRINCIPAL\"] + \" \" + df[\"DESCRIPCION_DEBATE\"]\n",
    "df[\"TEXTO_COMBINADO\"].head()"
   ]
  },
  {
   "cell_type": "markdown",
   "id": "1e000072",
   "metadata": {},
   "source": [
    "### Temas y palabras claves"
   ]
  },
  {
   "cell_type": "code",
   "execution_count": 8,
   "id": "2ddb2fbe",
   "metadata": {},
   "outputs": [],
   "source": [
    "temas = {\n",
    "    \"salud\": [\"salud\", \"hospital\", \"hospitales\" \"medico\", \"vacuna\", \"enfermedad\", \"medicina\", \"medicamento\"],\n",
    "    \"educacion\": [\"educacion\", \"colegio\", \"escuela\", \"universidad\", \"profesor\", \"alumno\", \"estudiante\", \"educador\", \"colegios\"],\n",
    "    \"delincuencia\": [\"delincuencia\", \"carabinero\", \"robo\", \"narcotrafico\", \"seguridad\", \"delito\", \"delincuente\", \"delincuentes\"],\n",
    "    \"medio ambiente\": [\"medioambiente\", \"naturaleza\", \"contaminacion\", \"reciclaje\", \"agua\", \"bosque\", \"bosques\", \"flora\", \"fauna\", \"ecosistema\", \"ecosistemas\"],\n",
    "    \"economia\": [\"economia\", \"dinero\", \"impuesto\", \"trabajo\", \"impuestos\", \"empresa\", \"empresas\", \"negocio\", \"negocios\", \"inversion\", \"inversiones\", \"financiero\", \"financieros\"],\n",
    "    \"constitucion\": [\"constitucion\", \"constitucional\"],\n",
    "    \"vivienda\": [\"vivienda\", \"casa\", \"alquiler\", \"arrendar\"],\n",
    "    \"transporte\": [\"transporte\", \"metro\", \"camino\", \"micro\"],\n",
    "    \"derechos humanos\": [\"derechos humanos\", \"derechos\", \"humanos\", \"discriminacion\", \"discriminacion\", \"discriminados\", \"discriminados\", \"discriminacion\", \"discriminaciones\", \"humanitaria\"],\n",
    "    \"legislacion\": [\"legislacion\", \"ley\", \"leyes\", \"legislativo\", \"legislativa\"],\n",
    "    \"justicia\": [\"justicia\", \"justicia\", \"jueces\", \"juez\", \"tribunal\", \"tribunales\"],\n",
    "}"
   ]
  },
  {
   "cell_type": "code",
   "execution_count": 9,
   "id": "29b71eed",
   "metadata": {},
   "outputs": [],
   "source": [
    "def asignar_keywords(texto):\n",
    "    palabras = texto.split()\n",
    "    etiquetas = set()\n",
    "    for tema, claves in temas.items():\n",
    "        for palabra in claves:\n",
    "            if (palabra in palabras):\n",
    "                etiquetas.add(tema)\n",
    "       \n",
    "    return list(etiquetas)"
   ]
  },
  {
   "cell_type": "code",
   "execution_count": 10,
   "id": "0b922b7f",
   "metadata": {},
   "outputs": [],
   "source": [
    "# Se agrupan por descripción debate, para poder aplicar la función de asignar_keywords a cada grupo de manera más eficiente\n",
    "grouped_df = df.groupby(\"DESCRIPCION_DEBATE\").first().reset_index()\n",
    "grouped_df[\"KEYWORDS\"] = grouped_df[\"TEXTO_COMBINADO\"].apply(asignar_keywords)\n",
    "\n",
    "df = df.merge(grouped_df[[\"TEXTO_COMBINADO\", \"KEYWORDS\"]], on=\"TEXTO_COMBINADO\", how=\"left\")"
   ]
  },
  {
   "cell_type": "markdown",
   "id": "d9e8906d",
   "metadata": {},
   "source": [
    "### Conclusion:\n"
   ]
  },
  {
   "cell_type": "markdown",
   "id": "20e744ab",
   "metadata": {},
   "source": [
    "\n",
    "Se realizo el preprocesamiento de las intervenciones parlamentarias con el objetivo de identificar las tematicas. Para esto, se aplico una funcion de limpieza que normalizo el texto (conversion a minusculas, eliminacion de tildes, puntuacion y espacios innecesarios). Luego, se unieron las columnas `TEXTO_ANTECEDENTE` y `DESCRIPCION_DEBATE` para generar un texto combinado. Finalmente, se aplico una funcion que detecta las palabras clave y asigna a cada intervencion una o mas temas, permitiendo categorizar los discursos parlamentarios segun temas como salud, educación, delincuencia, entre otros. Para optimizar la asignación, se agruparon las filas por la columna `DESCRIPCION_DEBATE`, ya que muchas compartian o eran de un mismo debate, para así acortar el tiempo de ejecución de asignación"
   ]
  },
  {
   "cell_type": "markdown",
   "id": "ccd98bc3",
   "metadata": {},
   "source": [
    "## Parte 2 - [1 pts] - Modelamiento"
   ]
  },
  {
   "cell_type": "markdown",
   "id": "8bdb421f",
   "metadata": {},
   "source": [
    "<h1> <center> Para esta parte vamos a trabajar con SQL <h1>\n"
   ]
  },
  {
   "cell_type": "markdown",
   "id": "4598b200",
   "metadata": {},
   "source": [
    "### Revisión Tipo de Datos"
   ]
  },
  {
   "cell_type": "code",
   "execution_count": 11,
   "id": "63de5108",
   "metadata": {},
   "outputs": [
    {
     "name": "stdout",
     "output_type": "stream",
     "text": [
      "<class 'pandas.core.frame.DataFrame'>\n",
      "RangeIndex: 1199 entries, 0 to 1198\n",
      "Data columns (total 12 columns):\n",
      " #   Column                 Non-Null Count  Dtype  \n",
      "---  ------                 --------------  -----  \n",
      " 0   PARLAMENTARIO_ID       1199 non-null   int64  \n",
      " 1   NOMBRE_COMPLETO        1199 non-null   object \n",
      " 2   VIGENTE                1199 non-null   int64  \n",
      " 3   FECHA_NACIMIENTO       206 non-null    object \n",
      " 4   REDES_SOCIALES         0 non-null      float64\n",
      " 5   SITIOS_WEB             0 non-null      float64\n",
      " 6   CAMARA_ACTUAL          206 non-null    object \n",
      " 7   CAMARA                 206 non-null    object \n",
      " 8   INICIO                 206 non-null    float64\n",
      " 9   FINAL                  206 non-null    float64\n",
      " 10  PARTIDO_POLITICO       155 non-null    object \n",
      " 11  UNIDAD_QUE_REPRESENTA  205 non-null    object \n",
      "dtypes: float64(4), int64(2), object(6)\n",
      "memory usage: 112.5+ KB\n"
     ]
    }
   ],
   "source": [
    "parlamentarios_info.info()"
   ]
  },
  {
   "cell_type": "code",
   "execution_count": 12,
   "id": "1e8676ca",
   "metadata": {},
   "outputs": [
    {
     "name": "stdout",
     "output_type": "stream",
     "text": [
      "<class 'pandas.core.frame.DataFrame'>\n",
      "RangeIndex: 68161 entries, 0 to 68160\n",
      "Data columns (total 14 columns):\n",
      " #   Column              Non-Null Count  Dtype  \n",
      "---  ------              --------------  -----  \n",
      " 0   ID_PARTICIPACION    68161 non-null  int64  \n",
      " 1   PARLAMENTARIO_ID    68161 non-null  int64  \n",
      " 2   FECHA               68161 non-null  object \n",
      " 3   LEGISLATURA         68161 non-null  int64  \n",
      " 4   SESION              68161 non-null  int64  \n",
      " 5   TIPO_SESION         68161 non-null  object \n",
      " 6   TIPO_PARTICIPACION  68161 non-null  object \n",
      " 7   CAMARA              68161 non-null  object \n",
      " 8   PARLAMENTARIOS      68161 non-null  object \n",
      " 9   TEXTO_PRINCIPAL     68161 non-null  object \n",
      " 10  DESCRIPCION_DEBATE  68161 non-null  object \n",
      " 11  BOLETIN_ID          20593 non-null  float64\n",
      " 12  TEXTO_COMBINADO     68161 non-null  object \n",
      " 13  KEYWORDS            19803 non-null  object \n",
      "dtypes: float64(1), int64(4), object(9)\n",
      "memory usage: 7.3+ MB\n"
     ]
    }
   ],
   "source": [
    "# df con las keys\n",
    "df.info()"
   ]
  },
  {
   "cell_type": "markdown",
   "id": "3f77decc",
   "metadata": {},
   "source": [
    "### Las tablas son: "
   ]
  },
  {
   "cell_type": "markdown",
   "id": "eff399ca",
   "metadata": {},
   "source": [
    "Son 7 tablas las cuales son:\n",
    "\n",
    "- `Parlamentarios`\n",
    "- `Partidos_Politico`\n",
    "- `Participaciones`\n",
    "- `Debates`\n",
    "- `Intervenciones`\n",
    "- `Keywords`\n",
    "- `Intervenciones_Keywords`"
   ]
  },
  {
   "cell_type": "markdown",
   "id": "ddbbd0bb",
   "metadata": {},
   "source": [
    "```sql\n",
    "Table Parlamentarios {\n",
    "  PARLAMENTARIO_ID integer [pk]\n",
    "  NOMBRE_COMPLETO varchar\n",
    "  VIGENTE boolean\n",
    "  FECHA_NACIMIENTO date\n",
    "  CAMARA_ACTUAL varchar\n",
    "  CAMARA varchar\n",
    "  INICIO integer\n",
    "  FINAL integer\n",
    "  UNIDAD_QUE_REPRESENTA varchar\n",
    "  PARTIDO_ID integer [ref: > Partidos_Politico.PARTIDO_ID]\n",
    "}\n",
    "```\n",
    "\n",
    "`Parlamentarios`\n",
    "Contiene informacion basica sobre los parlamentarios, como su nombre, fecha de nacimiento, camara a la que pertenecen, si estan vigentes, y el partido politico al que representan. Es fundamental para asociar intervenciones y participaciones con un parlamentario especifico y su afiliacion politica."
   ]
  },
  {
   "cell_type": "markdown",
   "id": "d32a76f7",
   "metadata": {},
   "source": [
    "```sql\n",
    "Table Partidos_Politico {\n",
    "  NOMBRE_PARTIDO varchar \n",
    "  PARTIDO_ID integer [pk]\n",
    "}\n",
    "```\n",
    "\n",
    "`Partidos_Politico`\n",
    "Registra los partidos politicos con su nombre y un identificador. Esta tabla permite agrupar y analizar las intervenciones por politico, lo cual es importante para consultas como la media mpvil por partido y temas mas tratados por cada partido.\n"
   ]
  },
  {
   "cell_type": "markdown",
   "id": "2ea4e727",
   "metadata": {},
   "source": [
    "\n",
    "```sql\n",
    "Table Debates {\n",
    "  DEBATE_ID integer [pk]\n",
    "  DESCRIPCION_DEBATE varchar\n",
    "  FECHA timestamp\n",
    "  BOLETIN_ID varchar\n",
    "}\n",
    "```\n",
    "\n",
    "`Debates`\n",
    "Incluye los debates realizados, con su fecha, descripcion y un boletin identificador. Es el marco temporal y tematico donde ocurren las participaciones parlamentarias. Es clave para organizar las intervenciones por mes o sesion.\n"
   ]
  },
  {
   "cell_type": "markdown",
   "id": "0262827c",
   "metadata": {},
   "source": [
    "```sql\n",
    "Table Participaciones {\n",
    "  ID_PARTICIPACION integer [pk]\n",
    "  PARLAMENTARIO_ID integer [ref: > Parlamentarios.PARLAMENTARIO_ID]\n",
    "  DEBATE_ID integer [ref: > Debates.DEBATE_ID]\n",
    "  FECHA timestamp\n",
    "  LEGISLATURA integer\n",
    "  SESION integer\n",
    "  TIPO_SESION varchar\n",
    "  TIPO_PARTICIPACION varchar\n",
    "  CAMARA varchar\n",
    "}\n",
    "```\n",
    "`Participaciones`\n",
    "Vincula a los parlamentarios con los debates en los que han participado. Tambiin indica la legislatura, sesion, tipo de participacion y camara. Esta tabla permite identificar cuando y como participo un parlamentario, lo cual es base para calcular promedios y frecuencias en el tiempo.\n"
   ]
  },
  {
   "cell_type": "markdown",
   "id": "11b66a62",
   "metadata": {},
   "source": [
    "```sql\n",
    "Table Keywords {\n",
    "  KEYWORD_ID integer [pk]\n",
    "  nombre varchar\n",
    "}\n",
    "```\n",
    "`Keywords`\n",
    "Define las tematicas o palabras clave que se usan para clasificar las intervenciones. Son importantes para responder consultas como las tematicas mas tratadas en un mes o meses.\n"
   ]
  },
  {
   "cell_type": "markdown",
   "id": "95240b97",
   "metadata": {},
   "source": [
    "```sql\n",
    "Table Intervenciones {\n",
    "  INTERVENCION_ID integer [pk]\n",
    "  ID_PARTICIPACION integer [ref: > Participaciones.ID_PARTICIPACION]\n",
    "  TEXTO_PRINCIPAL varchar\n",
    "}\n",
    "```\n",
    "`Intervenciones`\n",
    "Guarda los textos especificos pronunciados por los parlamentarios en cada participacion. Es el contenido discursivo que luego se puede analizar tematicamente."
   ]
  },
  {
   "cell_type": "markdown",
   "id": "688083e3",
   "metadata": {},
   "source": [
    "```sql\n",
    "Table Intervenciones_Keywords {\n",
    "  INTERVENCION_ID integer [ref: > Intervenciones.INTERVENCION_ID]\n",
    "  KEYWORD_ID integer [ref: > Keywords.KEYWORD_ID]\n",
    "}\n",
    "```\n",
    "\n",
    "`Intervenciones_Keywords`\n",
    "Tabla de relación entre intervenciones y palabras clave. Permite saber que temáticas estan presentes en que intervenciones, lo cual es central para analisis temzticos y rankings de temas tratados."
   ]
  },
  {
   "cell_type": "markdown",
   "id": "34b032db",
   "metadata": {},
   "source": [
    "### ***Conuslta 1:*** Cuales son las top 5 tematicas mas tratadas, para cada mes en el que hay registros."
   ]
  },
  {
   "cell_type": "markdown",
   "id": "5ca25825",
   "metadata": {},
   "source": [
    "<h4> El codigo es: </h4>\n",
    "\n",
    "```sql\n",
    "WITH conteo_keywords AS (\n",
    "  SELECT\n",
    "  FORMAT_DATE('%Y-%m', FECHA) AS mes,\n",
    "    Keywords.KEYWORD,\n",
    "    COUNT(*) AS cantidad\n",
    "  FROM\n",
    "    `Sesiones_Parlamentarias`.`Debates` AS Debates\n",
    "  LEFT JOIN\n",
    "    `Sesiones_Parlamentarias`.`Intervenciones_Keywords` AS t0\n",
    "  ON\n",
    "    Debates.DEBATE_ID = t0.INTERVENCION_ID\n",
    "  LEFT JOIN\n",
    "    `Sesiones_Parlamentarias`.`Keywords` AS Keywords\n",
    "  ON\n",
    "    t0.KEYWORD_ID = Keywords.KEYWORD_ID\n",
    "  GROUP BY\n",
    "    mes,\n",
    "    Keywords.KEYWORD\n",
    "),\n",
    "ranked_keywords AS (\n",
    "  SELECT\n",
    "    *,\n",
    "    ROW_NUMBER() OVER (PARTITION BY mes ORDER BY cantidad DESC) AS rank\n",
    "  FROM\n",
    "    conteo_keywords\n",
    ")\n",
    "SELECT\n",
    "  mes,\n",
    "  KEYWORD,\n",
    "  cantidad\n",
    "FROM\n",
    "  ranked_keywords\n",
    "WHERE\n",
    "  rank <= 5\n",
    "ORDER BY\n",
    "  mes,\n",
    "  rank;\n",
    "```\n",
    "\n",
    "\n",
    "\n",
    "Esta consulta SQL tiene como objetivo identificar las cinco temáticas más tratadas (palabras clave o keywords) en las intervenciones parlamentarias, separadas por mes. Para ello, se agrupan las intervenciones por mes y palabra clave, y se cuenta cuántas veces aparece cada una. Luego, se ordenan por frecuencia dentro de cada mes y se asigna un ranking. Finalmente, se filtran las cinco primeras por mes, entregando así un resumen mensual de las palabras más recurrentes en el debate parlamentario, lo que permite identificar los temas más relevantes discutidos en cada periodo.\n",
    "\n",
    "\n"
   ]
  },
  {
   "cell_type": "markdown",
   "id": "68ef7452",
   "metadata": {},
   "source": [
    "Lo que hace esta consulta es:"
   ]
  },
  {
   "cell_type": "markdown",
   "id": "0562ec53",
   "metadata": {},
   "source": [
    "### ***Consulta 2:*** Media movil de intervenciones por partido politico con un intervalo de 3 meses.\n"
   ]
  },
  {
   "cell_type": "markdown",
   "id": "1d4b420e",
   "metadata": {},
   "source": [
    "<h4> El codigo es: </h4>\n",
    "\n",
    "\n",
    "```sql\n",
    "SELECT\n",
    "    PARTIDO_POLITICO,\n",
    "    ROUND(AVG(promedio_individual), 2) AS promedio_intervenciones\n",
    "FROM (\n",
    "    SELECT\n",
    "        t0.PARTIDO_POLITICO,\n",
    "        Parlamentarios.PARLAMENTARIO_ID,\n",
    "        AVG(COUNT(t2.INTERVENCION_ID)) OVER (PARTITION \n",
    "        BY Parlamentarios.PARLAMENTARIO_ID) AS promedio_individual\n",
    "    FROM\n",
    "        `Sesiones_Parlamentarias`.`Partidos_Politico` AS t0\n",
    "    INNER JOIN\n",
    "        `Sesiones_Parlamentarias`.`Parlamentarios` AS Parlamentarios\n",
    "        ON t0.PARTIDO_ID = Parlamentarios.PARTIDO_ID\n",
    "    INNER JOIN\n",
    "        `Sesiones_Parlamentarias`.`Participaciones` AS t1\n",
    "        ON Parlamentarios.PARLAMENTARIO_ID = t1.PARLAMENTARIO_ID\n",
    "    INNER JOIN\n",
    "        `Sesiones_Parlamentarias`.`Intervenciones_Keywords` AS t2\n",
    "        ON t1.ID_PARTICIPACION = t2.INTERVENCION_ID\n",
    "    GROUP BY\n",
    "        t0.PARTIDO_POLITICO, Parlamentarios.PARLAMENTARIO_ID\n",
    ") AS sub\n",
    "GROUP BY\n",
    "    PARTIDO_POLITICO\n",
    "HAVING\n",
    "    COUNT(*) >= 3;\n",
    "```\n",
    "\n",
    "Esta consulta calcula la media móvil de intervenciones por partido político utilizando un intervalo de 3 meses. Primero, para cada parlamentario, se calcula su promedio individual de intervenciones a lo largo del tiempo. Luego, estos promedios individuales se agrupan por partido político, promediándolos para obtener un valor representativo del comportamiento del partido completo. Finalmente, se filtran los partidos que tienen datos de al menos tres parlamentarios, lo que asegura que el promedio sea significativo. Esta métrica permite comparar la actividad parlamentaria entre partidos considerando la variación individual de sus miembros y suavizando los datos a través del tiempo.\n"
   ]
  },
  {
   "cell_type": "markdown",
   "id": "d2d9eedf",
   "metadata": {},
   "source": [
    "### ***Consulta 3:*** Para cada trimestre, ver el tema principal tratado por cada partido politico."
   ]
  },
  {
   "cell_type": "markdown",
   "id": "bb7517d8",
   "metadata": {},
   "source": [
    "<h4> El codigo es: </h4>\n",
    "\n",
    "\n",
    "```sql\n",
    "\n",
    "SELECT\n",
    "  FORMAT_DATE('%Y-%m', DATE_TRUNC(Debates.FECHA, QUARTER)) AS trimestre,\n",
    "  t1.PARTIDO_POLITICO,\n",
    "  Keywords.KEYWORD,\n",
    "  COUNT(*) AS frecuencia\n",
    "FROM\n",
    "  `Sesiones_Parlamentarias`.`Debates` AS Debates\n",
    "INNER JOIN\n",
    "  `Sesiones_Parlamentarias`.`Participaciones` AS t0\n",
    "  ON Debates.DEBATE_ID = t0.DEBATE_ID\n",
    "INNER JOIN\n",
    "  `Sesiones_Parlamentarias`.`Parlamentarios` AS Parlamentarios\n",
    "  ON t0.PARLAMENTARIO_ID = Parlamentarios.PARLAMENTARIO_ID\n",
    "INNER JOIN\n",
    "  `Sesiones_Parlamentarias`.`Partidos_Politico` AS t1\n",
    "  ON Parlamentarios.PARTIDO_ID = t1.PARTIDO_ID\n",
    "INNER JOIN\n",
    "  `Sesiones_Parlamentarias`.`Intervenciones_Keywords` AS t2\n",
    "  ON t0.ID_PARTICIPACION = t2.INTERVENCION_ID\n",
    "INNER JOIN\n",
    "  `Sesiones_Parlamentarias`.`Keywords` AS Keywords\n",
    "  ON t2.KEYWORD_ID = Keywords.KEYWORD_ID\n",
    "GROUP BY\n",
    "  trimestre, t1.PARTIDO_POLITICO, Keywords.KEYWORD\n",
    "),\n",
    "\n",
    "RankingTemas AS (\n",
    "  SELECT *,\n",
    "    ROW_NUMBER() OVER (\n",
    "      PARTITION BY trimestre, PARTIDO_POLITICO\n",
    "      ORDER BY frecuencia DESC\n",
    "    ) AS orden\n",
    "  FROM ConteoTemas\n",
    ")\n",
    "\n",
    "SELECT\n",
    "  trimestre,\n",
    "  PARTIDO_POLITICO,\n",
    "  KEYWORD AS tema_principal,\n",
    "  frecuencia\n",
    "FROM\n",
    "  RankingTemas\n",
    "WHERE\n",
    "  orden = 1\n",
    "ORDER BY\n",
    "  trimestre, PARTIDO_POLITICO;\n",
    "```\n",
    "\n",
    "\n",
    "La consulta busca identificar el tema principal tratado por cada partido político en cada trimestre. Primero, agrupa los debates por trimestre, partido político y tema, contando las menciones de cada tema. Luego, usa `ROWNUMBER()` para clasificar los temas por frecuencia dentro de cada partido y trimestre. Finalmente, selecciona el tema más frecuente de cada partido en cada trimestre, mostrando el resultado ordenado por trimestre y partido. Esto permite ver qué temas son más relevantes para cada partido en cada periodo.\n"
   ]
  },
  {
   "cell_type": "markdown",
   "id": "7c6dcbb6",
   "metadata": {},
   "source": [
    "### ***Consulta 4:*** Poder pararse en un mes y ver cual es el top 3 de tematicas tratada por cada partido. Esto vas a querer repetirlo para algunos meses"
   ]
  },
  {
   "cell_type": "markdown",
   "id": "db8c18ef",
   "metadata": {},
   "source": [
    "<h4> El codigo es: </h4>\n",
    "\n",
    "\n",
    "\n",
    "```sql\n",
    "\n",
    "WITH ConteoMensual AS (\n",
    "  SELECT\n",
    "    FORMAT_DATE('%Y-%m', Debates.FECHA) AS mes,\n",
    "    t1.PARTIDO_POLITICO,\n",
    "    Keywords.KEYWORD,\n",
    "    COUNT(*) AS cantidad\n",
    "  FROM\n",
    "    `Sesiones_Parlamentarias`.`Debates` AS Debates\n",
    "  INNER JOIN\n",
    "    `Sesiones_Parlamentarias`.`Participaciones` AS t0\n",
    "    ON Debates.DEBATE_ID = t0.DEBATE_ID\n",
    "  INNER JOIN\n",
    "    `Sesiones_Parlamentarias`.`Parlamentarios` AS Parlamentarios\n",
    "    ON t0.PARLAMENTARIO_ID = Parlamentarios.PARLAMENTARIO_ID\n",
    "  INNER JOIN\n",
    "    `Sesiones_Parlamentarias`.`Partidos_Politico` AS t1\n",
    "    ON Parlamentarios.PARTIDO_ID = t1.PARTIDO_ID\n",
    "  INNER JOIN\n",
    "    `Sesiones_Parlamentarias`.`Intervenciones_Keywords` AS t2\n",
    "    ON t0.ID_PARTICIPACION = t2.INTERVENCION_ID\n",
    "  INNER JOIN\n",
    "    `Sesiones_Parlamentarias`.`Keywords` AS Keywords\n",
    "    ON t2.KEYWORD_ID = Keywords.KEYWORD_ID\n",
    "  WHERE\n",
    "    FORMAT_DATE('%Y-%m', Debates.FECHA) = '2023-06'  -- Cambiar mes\n",
    "  GROUP BY\n",
    "    mes, t1.PARTIDO_POLITICO, Keywords.KEYWORD\n",
    "),\n",
    "\n",
    "Top3Temas AS (\n",
    "  SELECT *,\n",
    "    ROW_NUMBER() OVER (\n",
    "      PARTITION BY PARTIDO_POLITICO\n",
    "      ORDER BY cantidad DESC\n",
    "    ) AS orden\n",
    "  FROM ConteoMensual\n",
    ")\n",
    "\n",
    "SELECT\n",
    "  mes,\n",
    "  PARTIDO_POLITICO,\n",
    "  KEYWORD,\n",
    "  cantidad\n",
    "FROM\n",
    "  Top3Temas\n",
    "WHERE\n",
    "  orden <= 3\n",
    "ORDER BY\n",
    "  PARTIDO_POLITICO,\n",
    "  orden;\n",
    "```\n",
    "\n",
    "\n",
    "La consulta tiene como objetivo obtener el top 3 de temáticas más tratadas por cada partido político en un mes específico. Primero, agrupa los debates por mes, partido político y tema, contando las menciones de cada tema en ese mes. Luego, utiliza la función `ROWNUMBER()` para ordenar los temas dentro de cada partido según su frecuencia, asignando un número de orden. Finalmente, selecciona los tres temas principales de cada partido (los primeros tres con más menciones) y los muestra ordenados por partido político y número de orden. La consulta permite repetir este proceso para diferentes meses cambiando el valor en la cláusula `WHERE` de la fecha (`2023-06` en este caso).\n"
   ]
  },
  {
   "cell_type": "markdown",
   "id": "2032f4de",
   "metadata": {},
   "source": [
    "## Parte 3 - [1.5 pts] - BigQuery"
   ]
  },
  {
   "cell_type": "markdown",
   "id": "154a81eb",
   "metadata": {},
   "source": [
    "Crear los dataframes necesarios a partir de los CSV existentes, borrando los datos nulos"
   ]
  },
  {
   "cell_type": "code",
   "execution_count": 13,
   "id": "188f1379",
   "metadata": {},
   "outputs": [],
   "source": [
    "partidos = parlamentarios_info[['PARTIDO_POLITICO']].drop_duplicates().dropna().reset_index(drop=True)\n",
    "partidos.columns = ['NOMBRE_PARTIDO']\n",
    "df_debates = df[[\"DESCRIPCION_DEBATE\", \"TEXTO_COMBINADO\"]].drop_duplicates()\n",
    "\n",
    "df_intervenciones = df.drop(columns=[\"KEYWORDS\"])\n",
    "df_intervenciones_keywords = df[[\"TEXTO_COMBINADO\", \"KEYWORDS\"]].explode(\"KEYWORDS\").drop_duplicates()"
   ]
  },
  {
   "cell_type": "code",
   "execution_count": 14,
   "id": "17452ec8",
   "metadata": {},
   "outputs": [
    {
     "data": {
      "text/html": [
       "<div>\n",
       "<style scoped>\n",
       "    .dataframe tbody tr th:only-of-type {\n",
       "        vertical-align: middle;\n",
       "    }\n",
       "\n",
       "    .dataframe tbody tr th {\n",
       "        vertical-align: top;\n",
       "    }\n",
       "\n",
       "    .dataframe thead th {\n",
       "        text-align: right;\n",
       "    }\n",
       "</style>\n",
       "<table border=\"1\" class=\"dataframe\">\n",
       "  <thead>\n",
       "    <tr style=\"text-align: right;\">\n",
       "      <th></th>\n",
       "      <th>NOMBRE_PARTIDO</th>\n",
       "    </tr>\n",
       "  </thead>\n",
       "  <tbody>\n",
       "    <tr>\n",
       "      <th>0</th>\n",
       "      <td>Partido Unión Demócrata Independiente</td>\n",
       "    </tr>\n",
       "    <tr>\n",
       "      <th>1</th>\n",
       "      <td>Partido Comunista de Chile</td>\n",
       "    </tr>\n",
       "    <tr>\n",
       "      <th>2</th>\n",
       "      <td>Partido Republicano de Chile</td>\n",
       "    </tr>\n",
       "    <tr>\n",
       "      <th>3</th>\n",
       "      <td>Unión Demócrata Independiente</td>\n",
       "    </tr>\n",
       "    <tr>\n",
       "      <th>4</th>\n",
       "      <td>Partido Por la Democracia</td>\n",
       "    </tr>\n",
       "  </tbody>\n",
       "</table>\n",
       "</div>"
      ],
      "text/plain": [
       "                          NOMBRE_PARTIDO\n",
       "0  Partido Unión Demócrata Independiente\n",
       "1             Partido Comunista de Chile\n",
       "2           Partido Republicano de Chile\n",
       "3          Unión Demócrata Independiente\n",
       "4              Partido Por la Democracia"
      ]
     },
     "execution_count": 14,
     "metadata": {},
     "output_type": "execute_result"
    }
   ],
   "source": [
    "partidos.head()"
   ]
  },
  {
   "cell_type": "markdown",
   "id": "b2f1152b",
   "metadata": {},
   "source": [
    "<h3> Creamos la dataframes Parlamentarios </h3>"
   ]
  },
  {
   "cell_type": "code",
   "execution_count": 15,
   "id": "41b31032",
   "metadata": {},
   "outputs": [],
   "source": [
    "parlamentarios_info[\"PARTIDO_POLITICO\"] = parlamentarios_info[\"PARTIDO_POLITICO\"].fillna(\"Independiente\")\n",
    "parlamentarios = parlamentarios_info.copy()\n",
    "parlamentarios = parlamentarios.drop(columns=[\"REDES_SOCIALES\", \"SITIOS_WEB\", \"PARTIDO_POLITICO\"])"
   ]
  },
  {
   "cell_type": "markdown",
   "id": "9136c54b",
   "metadata": {},
   "source": [
    "<h3> Creamos la tabla Partidos_Politico  </h3>"
   ]
  },
  {
   "cell_type": "code",
   "execution_count": 16,
   "id": "51099796",
   "metadata": {},
   "outputs": [],
   "source": [
    "partidos = parlamentarios_info[[\"PARTIDO_POLITICO\"]].drop_duplicates().reset_index(drop=True)\n",
    "partidos[\"PARTIDO_ID\"] = range(1, len(partidos) + 1)\n",
    "partidos.columns = [\"PARTIDO_POLITICO\", \"PARTIDO_ID\"]\n",
    "partido_to_id = partidos.set_index(\"PARTIDO_POLITICO\")[\"PARTIDO_ID\"].to_dict()"
   ]
  },
  {
   "cell_type": "markdown",
   "id": "1a3c5f1c",
   "metadata": {},
   "source": [
    "<h3> Creamos la dataframes  Debates </h3>\n"
   ]
  },
  {
   "cell_type": "code",
   "execution_count": 17,
   "id": "183377ed",
   "metadata": {},
   "outputs": [],
   "source": [
    "debates = df.copy()\n",
    "debates[\"DEBATE_ID\"] = debates.groupby([\"DESCRIPCION_DEBATE\"]).ngroup() + 1\n",
    "debates[\"BOLETIN_ID\"] = debates[\"BOLETIN_ID\"].fillna(0).astype(int)\n",
    "\n",
    "debates = debates[[\"DEBATE_ID\", \"DESCRIPCION_DEBATE\", \"FECHA\", \"BOLETIN_ID\"]]\n",
    "debates = debates.drop_duplicates(subset=[\"DESCRIPCION_DEBATE\"])\n",
    "\n",
    "debates = debates.sort_values(by=\"DEBATE_ID\").reset_index(drop=True)"
   ]
  },
  {
   "cell_type": "markdown",
   "id": "1ad27d0c",
   "metadata": {},
   "source": [
    "<h3> Creamos la dataframes Participaciones </h3>\n"
   ]
  },
  {
   "cell_type": "code",
   "execution_count": 18,
   "id": "e62d1dfa",
   "metadata": {},
   "outputs": [],
   "source": [
    "participaciones = df.copy()\n",
    "\n",
    "debate_to_id = debates.set_index(\"DESCRIPCION_DEBATE\")[\"DEBATE_ID\"].to_dict()\n",
    "participaciones[\"DEBATE_ID\"] = participaciones[\"DESCRIPCION_DEBATE\"].map(debate_to_id)\n",
    "\n",
    "participaciones = participaciones[[ \"ID_PARTICIPACION\", \"PARLAMENTARIO_ID\", \"DEBATE_ID\", \"FECHA\", \"LEGISLATURA\", \"SESION\", \"TIPO_SESION\", \"TIPO_PARTICIPACION\", \"CAMARA\"]]\n",
    "\n",
    "participaciones = participaciones.sort_values(by=\"ID_PARTICIPACION\").reset_index(drop=True)"
   ]
  },
  {
   "cell_type": "markdown",
   "id": "f79505dc",
   "metadata": {},
   "source": [
    "<h3> Creamos la dataframes Keywords </h3>\n"
   ]
  },
  {
   "cell_type": "code",
   "execution_count": 19,
   "id": "fee40586",
   "metadata": {},
   "outputs": [],
   "source": [
    "keywords = pd.DataFrame(list(temas.items()), columns=[\"Tema\", \"Palabras_Clave\"])\n",
    "keywords.rename(columns={\"Tema\": \"KEYWORD\"}, inplace=True)\n",
    "keywords.drop(columns=[\"Palabras_Clave\"], inplace=True)\n",
    "keywords[\"KEYWORD_ID\"] = range(1, len(keywords) + 1)"
   ]
  },
  {
   "cell_type": "markdown",
   "id": "7ff00a43",
   "metadata": {},
   "source": [
    "<h3> Creamos la dataframes Intervenciones </h3>\n"
   ]
  },
  {
   "cell_type": "code",
   "execution_count": 20,
   "id": "5e3b0f39",
   "metadata": {},
   "outputs": [],
   "source": [
    "intervenciones = df[[\"ID_PARTICIPACION\", \"TEXTO_PRINCIPAL\"]].copy()\n",
    "intervenciones[\"INTERVENCION_ID\"] = range(1, len(intervenciones) + 1)\n",
    "intervenciones = intervenciones[[\"INTERVENCION_ID\", \"ID_PARTICIPACION\", \"TEXTO_PRINCIPAL\"]]\n",
    "intervenciones = intervenciones.sort_values(by=\"INTERVENCION_ID\").reset_index(drop=True)"
   ]
  },
  {
   "cell_type": "markdown",
   "id": "28a46247",
   "metadata": {},
   "source": [
    "<h3> Creamos la dataframes Intervenciones_Keywords </h3>\n"
   ]
  },
  {
   "cell_type": "code",
   "execution_count": 21,
   "id": "2ff44afa",
   "metadata": {},
   "outputs": [],
   "source": [
    "df_intervenciones_keywords = df[[\"ID_PARTICIPACION\", \"KEYWORDS\"]].explode(\"KEYWORDS\").dropna(subset=[\"KEYWORDS\"])\n",
    "\n",
    "id_participacion_to_intervencion_id = intervenciones.set_index(\"ID_PARTICIPACION\")[\"INTERVENCION_ID\"].to_dict()\n",
    "df_intervenciones_keywords[\"INTERVENCION_ID\"] = df_intervenciones_keywords[\"ID_PARTICIPACION\"].map(id_participacion_to_intervencion_id)\n",
    "\n",
    "keyword_to_id = keywords.set_index(\"KEYWORD\")[\"KEYWORD_ID\"].to_dict()\n",
    "df_intervenciones_keywords[\"KEYWORD_ID\"] = df_intervenciones_keywords[\"KEYWORDS\"].map(keyword_to_id)\n",
    "\n",
    "df_intervenciones_keywords = df_intervenciones_keywords[[\"INTERVENCION_ID\", \"KEYWORD_ID\"]].dropna().drop_duplicates()"
   ]
  },
  {
   "cell_type": "markdown",
   "id": "e29a07fe",
   "metadata": {},
   "source": [
    "<h3> Guardamos los dataframes </h3>"
   ]
  },
  {
   "cell_type": "code",
   "execution_count": null,
   "id": "04d3a767",
   "metadata": {},
   "outputs": [
    {
     "data": {
      "text/plain": [
       "'# DataFrame Parlamentarios\\nparlamentarios.to_csv(\"Parlamentarios.csv\", index=False)\\n\\n# DataFrame Partidos_Politico\\npartidos.to_csv(\"Partidos_Politico.csv\", index=False)\\n\\n# DataFrame Debates\\ndebates.to_csv(\"Debates.csv\", index=False)\\n\\n# DataFrame Participaciones\\nparticipaciones.to_csv(\"Participaciones.csv\", index=False)\\n\\n# DataFrame Keywords\\nkeywords.to_csv(\"Keywords.csv\", index=False)\\n\\n# DataFrame Intervenciones\\nintervenciones.to_csv(\"Intervenciones.csv\", index=False)\\n\\n# DataFrame Intervenciones_Keywords\\ndf_intervenciones_keywords.to_csv(\"Intervenciones_Keywords.csv\", index=False) '"
      ]
     },
     "execution_count": 22,
     "metadata": {},
     "output_type": "execute_result"
    }
   ],
   "source": [
    "\n",
    "# DataFrame Parlamentarios\n",
    "parlamentarios.to_csv(\"Parlamentarios.csv\", index=False)\n",
    "\n",
    "# DataFrame Partidos_Politico\n",
    "partidos.to_csv(\"Partidos_Politico.csv\", index=False)\n",
    "\n",
    "# DataFrame Debates\n",
    "debates.to_csv(\"Debates.csv\", index=False)\n",
    "\n",
    "# DataFrame Participaciones\n",
    "participaciones.to_csv(\"Participaciones.csv\", index=False)\n",
    "\n",
    "# DataFrame Keywords\n",
    "keywords.to_csv(\"Keywords.csv\", index=False)\n",
    "\n",
    "# DataFrame Intervenciones\n",
    "intervenciones.to_csv(\"Intervenciones.csv\", index=False)\n",
    "\n",
    "# DataFrame Intervenciones_Keywords\n",
    "df_intervenciones_keywords.to_csv(\"Intervenciones_Keywords.csv\", index=False) \n"
   ]
  },
  {
   "cell_type": "markdown",
   "id": "28543084",
   "metadata": {},
   "source": [
    "## Parte 4 - [2 pts] - Informe"
   ]
  },
  {
   "cell_type": "markdown",
   "id": "0cc10a98",
   "metadata": {},
   "source": [
    "ver pdf: **P4_T1_Datos_Masivos.pdf**"
   ]
  },
  {
   "cell_type": "markdown",
   "id": "02260d8b",
   "metadata": {},
   "source": [
    "## Parte 5 - [0.5 pts] - Resumen ejecutivo"
   ]
  },
  {
   "cell_type": "markdown",
   "id": "b9230491",
   "metadata": {},
   "source": [
    "ver pdf: **P5_T1_Datos_Masivos.pdf**"
   ]
  }
 ],
 "metadata": {
  "kernelspec": {
   "display_name": "Python 3",
   "language": "python",
   "name": "python3"
  },
  "language_info": {
   "codemirror_mode": {
    "name": "ipython",
    "version": 3
   },
   "file_extension": ".py",
   "mimetype": "text/x-python",
   "name": "python",
   "nbconvert_exporter": "python",
   "pygments_lexer": "ipython3",
   "version": "3.11.9"
  }
 },
 "nbformat": 4,
 "nbformat_minor": 5
}
