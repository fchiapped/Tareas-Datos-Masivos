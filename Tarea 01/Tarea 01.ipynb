{
 "cells": [
  {
   "cell_type": "markdown",
   "id": "d465b00c",
   "metadata": {},
   "source": [
    "<h2><center>IIC2440 – Procesamiento de Datos Masivos</center></h2>\n",
    "<h3><center>Tarea 1: Análisis sesiones parlamentarias</center></h3>\n",
    "\n",
    "\n",
    "**Integrantes:**\n",
    "- Franco Chiappe\n",
    "- Tomás Pérez"
   ]
  },
  {
   "cell_type": "markdown",
   "id": "cd384384",
   "metadata": {},
   "source": [
    "### Librerias"
   ]
  },
  {
   "cell_type": "code",
   "execution_count": 108,
   "id": "9df726bf",
   "metadata": {},
   "outputs": [],
   "source": [
    "# Importar librerias \n",
    "import pandas as pd\n",
    "import numpy as np\n",
    "import matplotlib.pyplot as plt\n",
    "import re\n",
    "import unicodedata"
   ]
  },
  {
   "cell_type": "markdown",
   "id": "7fdad26f",
   "metadata": {},
   "source": [
    "## Parte 1 [1 pto] - Procesando los datos"
   ]
  },
  {
   "cell_type": "code",
   "execution_count": 109,
   "id": "ae3949cf",
   "metadata": {},
   "outputs": [],
   "source": [
    "# Cargar los datos\n",
    "parlamentarios_info = pd.read_csv('participacion/parlamentarios_info_general.csv')\n",
    "descripcion_2023_1 = pd.read_csv('participacion/participacion_descripcion_2023_1.csv')\n",
    "descripcion_2023_2 = pd.read_csv('participacion/participacion_descripcion_2023_2.csv')\n",
    "descripcion_2024 = pd.read_csv('participacion/participacion_descripcion_2024.csv')\n",
    "df = pd.concat([descripcion_2023_1, descripcion_2023_2, descripcion_2024], ignore_index=True)"
   ]
  },
  {
   "cell_type": "markdown",
   "id": "3d49894e",
   "metadata": {},
   "source": [
    "### Pre-Procesamiento de Datos"
   ]
  },
  {
   "cell_type": "code",
   "execution_count": 110,
   "id": "c5946be0",
   "metadata": {},
   "outputs": [
    {
     "name": "stdout",
     "output_type": "stream",
     "text": [
      "<class 'pandas.core.frame.DataFrame'>\n",
      "RangeIndex: 68161 entries, 0 to 68160\n",
      "Data columns (total 13 columns):\n",
      " #   Column              Non-Null Count  Dtype  \n",
      "---  ------              --------------  -----  \n",
      " 0   ID_PARTICIPACION    68161 non-null  int64  \n",
      " 1   PARLAMENTARIO_ID    68161 non-null  int64  \n",
      " 2   FECHA               68161 non-null  object \n",
      " 3   LEGISLATURA         68161 non-null  int64  \n",
      " 4   SESION              68161 non-null  int64  \n",
      " 5   TIPO_SESION         68161 non-null  object \n",
      " 6   TIPO_PARTICIPACION  68161 non-null  object \n",
      " 7   CAMARA              68161 non-null  object \n",
      " 8   PARLAMENTARIOS      68161 non-null  object \n",
      " 9   TEXTO_PRINCIPAL     68161 non-null  object \n",
      " 10  TEXTO_ANTECEDENTE   32393 non-null  object \n",
      " 11  DESCRIPCION_DEBATE  68161 non-null  object \n",
      " 12  BOLETIN_ID          20593 non-null  float64\n",
      "dtypes: float64(1), int64(4), object(8)\n",
      "memory usage: 6.8+ MB\n"
     ]
    }
   ],
   "source": [
    "df.info()"
   ]
  },
  {
   "cell_type": "markdown",
   "id": "79907165",
   "metadata": {},
   "source": [
    "Nos damos cuenta que en las columnas:\n",
    "\n",
    "- `TEXTO_ANTECEDENTE` tiene 35768  datos nulos\n",
    "- `BOLETIN_ID` tiene 47568 datos nulos\n",
    "\n",
    "Decidimos eliminar la columna `TEXTO_ANTECEDENTE`, porque presentaba un alto porcentaje de datos nulos y no aportaba informacion relevante. Por otro parte, no eliminamos la columna `BOLETIN_ID`, esta columna podria resultar util para analisis futuros."
   ]
  },
  {
   "cell_type": "code",
   "execution_count": 111,
   "id": "d245420f",
   "metadata": {},
   "outputs": [],
   "source": [
    "df = df.drop(columns=[\"TEXTO_ANTECEDENTE\"])"
   ]
  },
  {
   "cell_type": "markdown",
   "id": "de75c7a2",
   "metadata": {},
   "source": [
    "### Limpieza de texto"
   ]
  },
  {
   "cell_type": "code",
   "execution_count": 112,
   "id": "62b1afc7",
   "metadata": {},
   "outputs": [],
   "source": [
    "def limpiar_texto(texto):\n",
    "        \n",
    "    texto = texto.lower()\n",
    "    texto = texto.strip()\n",
    "    \n",
    "    texto = re.sub(r'[^\\w\\s]', '', texto)\n",
    "    texto = re.sub(r'\\s+', ' ', texto)\n",
    "\n",
    "    texto = unicodedata.normalize('NFKD', texto).encode('ASCII', 'ignore').decode('utf-8')\n",
    "\n",
    "    return texto"
   ]
  },
  {
   "cell_type": "markdown",
   "id": "b36fe058",
   "metadata": {},
   "source": [
    "Se usa la funcion ***limpiar_texto*** el objetivo es normalizar los textos para facilitar la extraccion de keywords. Esta funcion convierte todo el contenido a minuscula, elimina tildes, signos de puntuación y espacios innecesarios, dejando un text limpio. Esto permite detectar con mayor precision los temas."
   ]
  },
  {
   "cell_type": "code",
   "execution_count": 113,
   "id": "9c31015a",
   "metadata": {},
   "outputs": [
    {
     "data": {
      "text/plain": [
       "0    la senora allende ngracias presidente npor su ...\n",
       "1    la senora allende ngracias presidente nen prim...\n",
       "2    proyecto de acuerdo de los honorables senadore...\n",
       "3    de la senora allende n a la municipalidad de v...\n",
       "4    proyecto de acuerdo de los honorables senadore...\n",
       "Name: TEXTO_COMBINADO, dtype: object"
      ]
     },
     "execution_count": 113,
     "metadata": {},
     "output_type": "execute_result"
    }
   ],
   "source": [
    "# Aplicar la funcion de limpieza a las columnas\n",
    "df['DESCRIPCION_DEBATE'] = df['DESCRIPCION_DEBATE'].apply(limpiar_texto)\n",
    "df['TEXTO_PRINCIPAL'] = df['TEXTO_PRINCIPAL'].apply(limpiar_texto)\n",
    "\n",
    "# Juntamos las columnas\n",
    "df[\"TEXTO_COMBINADO\"] = df[\"TEXTO_PRINCIPAL\"] + \" \" + df[\"DESCRIPCION_DEBATE\"]\n",
    "df[\"TEXTO_COMBINADO\"].head()"
   ]
  },
  {
   "cell_type": "markdown",
   "id": "1e000072",
   "metadata": {},
   "source": [
    "### Temas y palabras claves"
   ]
  },
  {
   "cell_type": "code",
   "execution_count": 115,
   "id": "29b71eed",
   "metadata": {},
   "outputs": [],
   "source": [
    "def asignar_keywords(texto):\n",
    "    palabras = texto.split()\n",
    "    etiquetas = set()\n",
    "    for tema, claves in temas.items():\n",
    "        for palabra in claves:\n",
    "            if (palabra in palabras):\n",
    "                etiquetas.add(tema)\n",
    "       \n",
    "    return list(etiquetas)"
   ]
  },
  {
   "cell_type": "code",
   "execution_count": 116,
   "id": "0b922b7f",
   "metadata": {},
   "outputs": [
    {
     "data": {
      "text/plain": [
       "KEYWORDS\n",
       "[]                                                                              4764\n",
       "[legislacion]                                                                   3977\n",
       "[economia]                                                                       782\n",
       "[salud]                                                                          668\n",
       "[legislacion, economia]                                                          655\n",
       "                                                                                ... \n",
       "[derechos humanos, vivienda, salud]                                                1\n",
       "[constitucion, vivienda, salud, economia]                                          1\n",
       "[legislacion, transporte, vivienda, salud, constitucion]                           1\n",
       "[delincuencia, medio ambiente, vivienda, legislacion]                              1\n",
       "[derechos humanos, economia, legislacion, salud, delincuencia, constitucion]       1\n",
       "Name: count, Length: 544, dtype: int64"
      ]
     },
     "execution_count": 116,
     "metadata": {},
     "output_type": "execute_result"
    }
   ],
   "source": [
    "# Se agrupan por descripción debate, para poder aplicar la función de asignar_keywords a cada grupo de manera más eficiente\n",
    "grouped_df = df.groupby(\"DESCRIPCION_DEBATE\").first().reset_index()\n",
    "grouped_df[\"KEYWORDS\"] = grouped_df[\"TEXTO_COMBINADO\"].apply(asignar_keywords)\n",
    "\n",
    "df = df.merge(grouped_df[[\"TEXTO_COMBINADO\", \"KEYWORDS\"]], on=\"TEXTO_COMBINADO\", how=\"left\")\n",
    "df[\"KEYWORDS\"].value_counts()"
   ]
  },
  {
   "cell_type": "markdown",
   "id": "20e744ab",
   "metadata": {},
   "source": [
    "### Conclusion:\n",
    "Se realizo el preprocesamiento de las intervenciones parlamentarias con el objetivo de identificar las tematicas. Para esto, se aplico una funcion de limpieza que normalizo el texto (conversion a minusculas, eliminacion de tildes, puntuacion y espacios innecesarios). Luego, se unieron las columnas `TEXTO_ANTECEDENTE` y `DESCRIPCION_DEBATE` para generar un texto combinado. Finalmente, se aplico una funcion que detecta las palabras clave y asigna a cada intervencion una o mas temas, permitiendo categorizar los discursos parlamentarios segun temas como salud, educación, delincuencia, entre otros. Para optimizar la asignación, se agruparon las filas por la columna `DESCRIPCION_DEBATE`, ya que muchas compartian o eran de un mismo debate, para así acortar el tiempo de ejecución de asignación"
   ]
  },
  {
   "cell_type": "markdown",
   "id": "ccd98bc3",
   "metadata": {},
   "source": [
    "## Parte 2 - [1 pts] - Modelamiento"
   ]
  },
  {
   "cell_type": "markdown",
   "id": "4598b200",
   "metadata": {},
   "source": [
    "### Revisión Tipo de Datos"
   ]
  },
  {
   "cell_type": "code",
   "execution_count": 117,
   "id": "63de5108",
   "metadata": {},
   "outputs": [
    {
     "name": "stdout",
     "output_type": "stream",
     "text": [
      "<class 'pandas.core.frame.DataFrame'>\n",
      "RangeIndex: 1199 entries, 0 to 1198\n",
      "Data columns (total 12 columns):\n",
      " #   Column                 Non-Null Count  Dtype  \n",
      "---  ------                 --------------  -----  \n",
      " 0   PARLAMENTARIO_ID       1199 non-null   int64  \n",
      " 1   NOMBRE_COMPLETO        1199 non-null   object \n",
      " 2   VIGENTE                1199 non-null   int64  \n",
      " 3   FECHA_NACIMIENTO       206 non-null    object \n",
      " 4   REDES_SOCIALES         0 non-null      float64\n",
      " 5   SITIOS_WEB             0 non-null      float64\n",
      " 6   CAMARA_ACTUAL          206 non-null    object \n",
      " 7   CAMARA                 206 non-null    object \n",
      " 8   INICIO                 206 non-null    float64\n",
      " 9   FINAL                  206 non-null    float64\n",
      " 10  PARTIDO_POLITICO       155 non-null    object \n",
      " 11  UNIDAD_QUE_REPRESENTA  205 non-null    object \n",
      "dtypes: float64(4), int64(2), object(6)\n",
      "memory usage: 112.5+ KB\n"
     ]
    }
   ],
   "source": [
    "parlamentarios_info.info()"
   ]
  },
  {
   "cell_type": "code",
   "execution_count": 118,
   "id": "1e8676ca",
   "metadata": {},
   "outputs": [
    {
     "name": "stdout",
     "output_type": "stream",
     "text": [
      "<class 'pandas.core.frame.DataFrame'>\n",
      "RangeIndex: 68161 entries, 0 to 68160\n",
      "Data columns (total 14 columns):\n",
      " #   Column              Non-Null Count  Dtype  \n",
      "---  ------              --------------  -----  \n",
      " 0   ID_PARTICIPACION    68161 non-null  int64  \n",
      " 1   PARLAMENTARIO_ID    68161 non-null  int64  \n",
      " 2   FECHA               68161 non-null  object \n",
      " 3   LEGISLATURA         68161 non-null  int64  \n",
      " 4   SESION              68161 non-null  int64  \n",
      " 5   TIPO_SESION         68161 non-null  object \n",
      " 6   TIPO_PARTICIPACION  68161 non-null  object \n",
      " 7   CAMARA              68161 non-null  object \n",
      " 8   PARLAMENTARIOS      68161 non-null  object \n",
      " 9   TEXTO_PRINCIPAL     68161 non-null  object \n",
      " 10  DESCRIPCION_DEBATE  68161 non-null  object \n",
      " 11  BOLETIN_ID          20593 non-null  float64\n",
      " 12  TEXTO_COMBINADO     68161 non-null  object \n",
      " 13  KEYWORDS            19803 non-null  object \n",
      "dtypes: float64(1), int64(4), object(9)\n",
      "memory usage: 7.3+ MB\n"
     ]
    }
   ],
   "source": [
    "df.info()"
   ]
  },
  {
   "cell_type": "markdown",
   "id": "f5ad30f0",
   "metadata": {},
   "source": [
    "Falta realizar el trabajo de las tablas y las consultas que se piden:\n",
    "\n",
    "Luego, ten presente que harás las siguientes consultas:\n",
    "\n",
    "\n",
    "¿Cuáles son las top 5 temáticas más tratadas, para cada mes en el que hay registros?\n",
    "\n",
    "Media móvil de intervenciones por partido político con un intervalo de 3 meses.\n",
    "\n",
    "Para cada trimestre, ver el tema principal tratado por cada partido político.\n",
    "\n",
    "Poder pararse en un mes y ver cuál es el top 3 de temáticas tratadas por cada partido. Esto vas a querer repetirlo para algunos meses.\n"
   ]
  },
  {
   "cell_type": "markdown",
   "id": "2032f4de",
   "metadata": {},
   "source": [
    "## Parte 3 - [1.5 pts] - BigQuery"
   ]
  },
  {
   "cell_type": "markdown",
   "id": "28543084",
   "metadata": {},
   "source": [
    "## Parte 4 - [2 pts] - Informe>"
   ]
  },
  {
   "cell_type": "markdown",
   "id": "02260d8b",
   "metadata": {},
   "source": [
    "## Parte 5 - [0.5 pts] - Resumen ejecutivo"
   ]
  }
 ],
 "metadata": {
  "kernelspec": {
   "display_name": "Python 3",
   "language": "python",
   "name": "python3"
  },
  "language_info": {
   "codemirror_mode": {
    "name": "ipython",
    "version": 3
   },
   "file_extension": ".py",
   "mimetype": "text/x-python",
   "name": "python",
   "nbconvert_exporter": "python",
   "pygments_lexer": "ipython3",
   "version": "3.13.3"
  }
 },
 "nbformat": 4,
 "nbformat_minor": 5
}
